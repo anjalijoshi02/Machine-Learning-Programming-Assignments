{
 "cells": [
  {
   "cell_type": "code",
   "execution_count": 1,
   "id": "aadd3295",
   "metadata": {},
   "outputs": [],
   "source": [
    "# importing basic libraries\n",
    "import sqlite3\n",
    "import numpy as np\n",
    "import pandas as pd\n",
    "%matplotlib notebook\n",
    "import matplotlib.pyplot as plt\n",
    "%matplotlib inline"
   ]
  },
  {
   "cell_type": "code",
   "execution_count": 2,
   "id": "54a90085",
   "metadata": {},
   "outputs": [],
   "source": [
    "sql_database = sqlite3.connect('database.sqlite')\n",
    "df= pd.read_sql_query(\"SELECT * FROM Player_Attributes\", sql_database)"
   ]
  },
  {
   "cell_type": "code",
   "execution_count": 3,
   "id": "87001664",
   "metadata": {},
   "outputs": [
    {
     "data": {
      "text/html": [
       "<div>\n",
       "<style scoped>\n",
       "    .dataframe tbody tr th:only-of-type {\n",
       "        vertical-align: middle;\n",
       "    }\n",
       "\n",
       "    .dataframe tbody tr th {\n",
       "        vertical-align: top;\n",
       "    }\n",
       "\n",
       "    .dataframe thead th {\n",
       "        text-align: right;\n",
       "    }\n",
       "</style>\n",
       "<table border=\"1\" class=\"dataframe\">\n",
       "  <thead>\n",
       "    <tr style=\"text-align: right;\">\n",
       "      <th></th>\n",
       "      <th>id</th>\n",
       "      <th>player_fifa_api_id</th>\n",
       "      <th>player_api_id</th>\n",
       "      <th>date</th>\n",
       "      <th>overall_rating</th>\n",
       "      <th>potential</th>\n",
       "      <th>preferred_foot</th>\n",
       "      <th>attacking_work_rate</th>\n",
       "      <th>defensive_work_rate</th>\n",
       "      <th>crossing</th>\n",
       "      <th>...</th>\n",
       "      <th>vision</th>\n",
       "      <th>penalties</th>\n",
       "      <th>marking</th>\n",
       "      <th>standing_tackle</th>\n",
       "      <th>sliding_tackle</th>\n",
       "      <th>gk_diving</th>\n",
       "      <th>gk_handling</th>\n",
       "      <th>gk_kicking</th>\n",
       "      <th>gk_positioning</th>\n",
       "      <th>gk_reflexes</th>\n",
       "    </tr>\n",
       "  </thead>\n",
       "  <tbody>\n",
       "    <tr>\n",
       "      <th>0</th>\n",
       "      <td>1</td>\n",
       "      <td>218353</td>\n",
       "      <td>505942</td>\n",
       "      <td>2016-02-18 00:00:00</td>\n",
       "      <td>67.0</td>\n",
       "      <td>71.0</td>\n",
       "      <td>right</td>\n",
       "      <td>medium</td>\n",
       "      <td>medium</td>\n",
       "      <td>49.0</td>\n",
       "      <td>...</td>\n",
       "      <td>54.0</td>\n",
       "      <td>48.0</td>\n",
       "      <td>65.0</td>\n",
       "      <td>69.0</td>\n",
       "      <td>69.0</td>\n",
       "      <td>6.0</td>\n",
       "      <td>11.0</td>\n",
       "      <td>10.0</td>\n",
       "      <td>8.0</td>\n",
       "      <td>8.0</td>\n",
       "    </tr>\n",
       "    <tr>\n",
       "      <th>1</th>\n",
       "      <td>2</td>\n",
       "      <td>218353</td>\n",
       "      <td>505942</td>\n",
       "      <td>2015-11-19 00:00:00</td>\n",
       "      <td>67.0</td>\n",
       "      <td>71.0</td>\n",
       "      <td>right</td>\n",
       "      <td>medium</td>\n",
       "      <td>medium</td>\n",
       "      <td>49.0</td>\n",
       "      <td>...</td>\n",
       "      <td>54.0</td>\n",
       "      <td>48.0</td>\n",
       "      <td>65.0</td>\n",
       "      <td>69.0</td>\n",
       "      <td>69.0</td>\n",
       "      <td>6.0</td>\n",
       "      <td>11.0</td>\n",
       "      <td>10.0</td>\n",
       "      <td>8.0</td>\n",
       "      <td>8.0</td>\n",
       "    </tr>\n",
       "    <tr>\n",
       "      <th>2</th>\n",
       "      <td>3</td>\n",
       "      <td>218353</td>\n",
       "      <td>505942</td>\n",
       "      <td>2015-09-21 00:00:00</td>\n",
       "      <td>62.0</td>\n",
       "      <td>66.0</td>\n",
       "      <td>right</td>\n",
       "      <td>medium</td>\n",
       "      <td>medium</td>\n",
       "      <td>49.0</td>\n",
       "      <td>...</td>\n",
       "      <td>54.0</td>\n",
       "      <td>48.0</td>\n",
       "      <td>65.0</td>\n",
       "      <td>66.0</td>\n",
       "      <td>69.0</td>\n",
       "      <td>6.0</td>\n",
       "      <td>11.0</td>\n",
       "      <td>10.0</td>\n",
       "      <td>8.0</td>\n",
       "      <td>8.0</td>\n",
       "    </tr>\n",
       "    <tr>\n",
       "      <th>3</th>\n",
       "      <td>4</td>\n",
       "      <td>218353</td>\n",
       "      <td>505942</td>\n",
       "      <td>2015-03-20 00:00:00</td>\n",
       "      <td>61.0</td>\n",
       "      <td>65.0</td>\n",
       "      <td>right</td>\n",
       "      <td>medium</td>\n",
       "      <td>medium</td>\n",
       "      <td>48.0</td>\n",
       "      <td>...</td>\n",
       "      <td>53.0</td>\n",
       "      <td>47.0</td>\n",
       "      <td>62.0</td>\n",
       "      <td>63.0</td>\n",
       "      <td>66.0</td>\n",
       "      <td>5.0</td>\n",
       "      <td>10.0</td>\n",
       "      <td>9.0</td>\n",
       "      <td>7.0</td>\n",
       "      <td>7.0</td>\n",
       "    </tr>\n",
       "    <tr>\n",
       "      <th>4</th>\n",
       "      <td>5</td>\n",
       "      <td>218353</td>\n",
       "      <td>505942</td>\n",
       "      <td>2007-02-22 00:00:00</td>\n",
       "      <td>61.0</td>\n",
       "      <td>65.0</td>\n",
       "      <td>right</td>\n",
       "      <td>medium</td>\n",
       "      <td>medium</td>\n",
       "      <td>48.0</td>\n",
       "      <td>...</td>\n",
       "      <td>53.0</td>\n",
       "      <td>47.0</td>\n",
       "      <td>62.0</td>\n",
       "      <td>63.0</td>\n",
       "      <td>66.0</td>\n",
       "      <td>5.0</td>\n",
       "      <td>10.0</td>\n",
       "      <td>9.0</td>\n",
       "      <td>7.0</td>\n",
       "      <td>7.0</td>\n",
       "    </tr>\n",
       "  </tbody>\n",
       "</table>\n",
       "<p>5 rows × 42 columns</p>\n",
       "</div>"
      ],
      "text/plain": [
       "   id  player_fifa_api_id  player_api_id                 date  overall_rating  \\\n",
       "0   1              218353         505942  2016-02-18 00:00:00            67.0   \n",
       "1   2              218353         505942  2015-11-19 00:00:00            67.0   \n",
       "2   3              218353         505942  2015-09-21 00:00:00            62.0   \n",
       "3   4              218353         505942  2015-03-20 00:00:00            61.0   \n",
       "4   5              218353         505942  2007-02-22 00:00:00            61.0   \n",
       "\n",
       "   potential preferred_foot attacking_work_rate defensive_work_rate  crossing  \\\n",
       "0       71.0          right              medium              medium      49.0   \n",
       "1       71.0          right              medium              medium      49.0   \n",
       "2       66.0          right              medium              medium      49.0   \n",
       "3       65.0          right              medium              medium      48.0   \n",
       "4       65.0          right              medium              medium      48.0   \n",
       "\n",
       "   ...  vision  penalties  marking  standing_tackle  sliding_tackle  \\\n",
       "0  ...    54.0       48.0     65.0             69.0            69.0   \n",
       "1  ...    54.0       48.0     65.0             69.0            69.0   \n",
       "2  ...    54.0       48.0     65.0             66.0            69.0   \n",
       "3  ...    53.0       47.0     62.0             63.0            66.0   \n",
       "4  ...    53.0       47.0     62.0             63.0            66.0   \n",
       "\n",
       "   gk_diving  gk_handling  gk_kicking  gk_positioning  gk_reflexes  \n",
       "0        6.0         11.0        10.0             8.0          8.0  \n",
       "1        6.0         11.0        10.0             8.0          8.0  \n",
       "2        6.0         11.0        10.0             8.0          8.0  \n",
       "3        5.0         10.0         9.0             7.0          7.0  \n",
       "4        5.0         10.0         9.0             7.0          7.0  \n",
       "\n",
       "[5 rows x 42 columns]"
      ]
     },
     "execution_count": 3,
     "metadata": {},
     "output_type": "execute_result"
    }
   ],
   "source": [
    "df.head()"
   ]
  },
  {
   "cell_type": "code",
   "execution_count": 4,
   "id": "f2160e53",
   "metadata": {},
   "outputs": [
    {
     "data": {
      "text/plain": [
       "(183978, 42)"
      ]
     },
     "execution_count": 4,
     "metadata": {},
     "output_type": "execute_result"
    }
   ],
   "source": [
    "df.shape"
   ]
  },
  {
   "cell_type": "code",
   "execution_count": 5,
   "id": "2fd6e2af",
   "metadata": {},
   "outputs": [
    {
     "data": {
      "text/plain": [
       "Index(['id', 'player_fifa_api_id', 'player_api_id', 'date', 'overall_rating',\n",
       "       'potential', 'preferred_foot', 'attacking_work_rate',\n",
       "       'defensive_work_rate', 'crossing', 'finishing', 'heading_accuracy',\n",
       "       'short_passing', 'volleys', 'dribbling', 'curve', 'free_kick_accuracy',\n",
       "       'long_passing', 'ball_control', 'acceleration', 'sprint_speed',\n",
       "       'agility', 'reactions', 'balance', 'shot_power', 'jumping', 'stamina',\n",
       "       'strength', 'long_shots', 'aggression', 'interceptions', 'positioning',\n",
       "       'vision', 'penalties', 'marking', 'standing_tackle', 'sliding_tackle',\n",
       "       'gk_diving', 'gk_handling', 'gk_kicking', 'gk_positioning',\n",
       "       'gk_reflexes'],\n",
       "      dtype='object')"
      ]
     },
     "execution_count": 5,
     "metadata": {},
     "output_type": "execute_result"
    }
   ],
   "source": [
    "df.columns"
   ]
  },
  {
   "cell_type": "code",
   "execution_count": 6,
   "id": "bbd7e327",
   "metadata": {},
   "outputs": [
    {
     "data": {
      "text/plain": [
       "id                        0\n",
       "player_fifa_api_id        0\n",
       "player_api_id             0\n",
       "date                      0\n",
       "overall_rating          836\n",
       "potential               836\n",
       "preferred_foot          836\n",
       "attacking_work_rate    3230\n",
       "defensive_work_rate     836\n",
       "crossing                836\n",
       "finishing               836\n",
       "heading_accuracy        836\n",
       "short_passing           836\n",
       "volleys                2713\n",
       "dribbling               836\n",
       "curve                  2713\n",
       "free_kick_accuracy      836\n",
       "long_passing            836\n",
       "ball_control            836\n",
       "acceleration            836\n",
       "sprint_speed            836\n",
       "agility                2713\n",
       "reactions               836\n",
       "balance                2713\n",
       "shot_power              836\n",
       "jumping                2713\n",
       "stamina                 836\n",
       "strength                836\n",
       "long_shots              836\n",
       "aggression              836\n",
       "interceptions           836\n",
       "positioning             836\n",
       "vision                 2713\n",
       "penalties               836\n",
       "marking                 836\n",
       "standing_tackle         836\n",
       "sliding_tackle         2713\n",
       "gk_diving               836\n",
       "gk_handling             836\n",
       "gk_kicking              836\n",
       "gk_positioning          836\n",
       "gk_reflexes             836\n",
       "dtype: int64"
      ]
     },
     "execution_count": 6,
     "metadata": {},
     "output_type": "execute_result"
    }
   ],
   "source": [
    "df.isna().sum()"
   ]
  },
  {
   "cell_type": "code",
   "execution_count": 7,
   "id": "8055b400",
   "metadata": {},
   "outputs": [
    {
     "name": "stdout",
     "output_type": "stream",
     "text": [
      "<class 'pandas.core.frame.DataFrame'>\n",
      "RangeIndex: 183978 entries, 0 to 183977\n",
      "Data columns (total 42 columns):\n",
      " #   Column               Non-Null Count   Dtype  \n",
      "---  ------               --------------   -----  \n",
      " 0   id                   183978 non-null  int64  \n",
      " 1   player_fifa_api_id   183978 non-null  int64  \n",
      " 2   player_api_id        183978 non-null  int64  \n",
      " 3   date                 183978 non-null  object \n",
      " 4   overall_rating       183142 non-null  float64\n",
      " 5   potential            183142 non-null  float64\n",
      " 6   preferred_foot       183142 non-null  object \n",
      " 7   attacking_work_rate  180748 non-null  object \n",
      " 8   defensive_work_rate  183142 non-null  object \n",
      " 9   crossing             183142 non-null  float64\n",
      " 10  finishing            183142 non-null  float64\n",
      " 11  heading_accuracy     183142 non-null  float64\n",
      " 12  short_passing        183142 non-null  float64\n",
      " 13  volleys              181265 non-null  float64\n",
      " 14  dribbling            183142 non-null  float64\n",
      " 15  curve                181265 non-null  float64\n",
      " 16  free_kick_accuracy   183142 non-null  float64\n",
      " 17  long_passing         183142 non-null  float64\n",
      " 18  ball_control         183142 non-null  float64\n",
      " 19  acceleration         183142 non-null  float64\n",
      " 20  sprint_speed         183142 non-null  float64\n",
      " 21  agility              181265 non-null  float64\n",
      " 22  reactions            183142 non-null  float64\n",
      " 23  balance              181265 non-null  float64\n",
      " 24  shot_power           183142 non-null  float64\n",
      " 25  jumping              181265 non-null  float64\n",
      " 26  stamina              183142 non-null  float64\n",
      " 27  strength             183142 non-null  float64\n",
      " 28  long_shots           183142 non-null  float64\n",
      " 29  aggression           183142 non-null  float64\n",
      " 30  interceptions        183142 non-null  float64\n",
      " 31  positioning          183142 non-null  float64\n",
      " 32  vision               181265 non-null  float64\n",
      " 33  penalties            183142 non-null  float64\n",
      " 34  marking              183142 non-null  float64\n",
      " 35  standing_tackle      183142 non-null  float64\n",
      " 36  sliding_tackle       181265 non-null  float64\n",
      " 37  gk_diving            183142 non-null  float64\n",
      " 38  gk_handling          183142 non-null  float64\n",
      " 39  gk_kicking           183142 non-null  float64\n",
      " 40  gk_positioning       183142 non-null  float64\n",
      " 41  gk_reflexes          183142 non-null  float64\n",
      "dtypes: float64(35), int64(3), object(4)\n",
      "memory usage: 59.0+ MB\n"
     ]
    }
   ],
   "source": [
    "df.info()"
   ]
  },
  {
   "cell_type": "code",
   "execution_count": 8,
   "id": "5e619fe8",
   "metadata": {},
   "outputs": [],
   "source": [
    "#there are three categorical columns"
   ]
  },
  {
   "cell_type": "code",
   "execution_count": 9,
   "id": "75b43e45",
   "metadata": {},
   "outputs": [],
   "source": [
    "# We can drop the id ,date,player_fifa_api_id and player_api_id  column from the dataset\n",
    "df.drop(columns=['id','date','player_fifa_api_id','player_api_id'],axis=1,inplace=True)"
   ]
  },
  {
   "cell_type": "code",
   "execution_count": 10,
   "id": "0aea8846",
   "metadata": {},
   "outputs": [
    {
     "name": "stdout",
     "output_type": "stream",
     "text": [
      "right    138409\n",
      "left      44733\n",
      "Name: preferred_foot, dtype: int64\n",
      "836\n"
     ]
    }
   ],
   "source": [
    "print(df['preferred_foot'].value_counts())\n",
    "print(df['preferred_foot'].isna().sum())"
   ]
  },
  {
   "cell_type": "code",
   "execution_count": 11,
   "id": "2cce8e3b",
   "metadata": {},
   "outputs": [
    {
     "name": "stdout",
     "output_type": "stream",
     "text": [
      "medium    130846\n",
      "high       27041\n",
      "low        18432\n",
      "_0          2394\n",
      "o           1550\n",
      "1            441\n",
      "ormal        348\n",
      "2            342\n",
      "3            258\n",
      "5            234\n",
      "7            217\n",
      "0            197\n",
      "6            197\n",
      "9            152\n",
      "4            116\n",
      "es           106\n",
      "ean          104\n",
      "tocky         89\n",
      "8             78\n",
      "Name: defensive_work_rate, dtype: int64\n",
      "836\n"
     ]
    }
   ],
   "source": [
    "print(df['defensive_work_rate'].value_counts())\n",
    "print(df['defensive_work_rate'].isna().sum())"
   ]
  },
  {
   "cell_type": "code",
   "execution_count": 12,
   "id": "c396672b",
   "metadata": {},
   "outputs": [],
   "source": [
    "# defensive_work_rate column contains so many irrelevant data , so it needs to be cleaned\n",
    "def defensive_work_rate(cols):\n",
    "    i = cols[0]\n",
    "    \n",
    "    if not pd.isnull(i):\n",
    "\n",
    "        if i=='1' or i==1 or i=='2' or i==2 or i=='3' or i==3 or i=='_0' or i=='o' or i=='0' or i==0:\n",
    "            return 'low'\n",
    "\n",
    "        elif i=='4' or i==4 or i=='5' or i==5 or i=='es' or i=='ean' or i=='tocky' or i=='ormal':\n",
    "            return 'medium'\n",
    "\n",
    "        else:\n",
    "            return 'high'\n",
    "\n",
    "    elif pd.isnull(i):\n",
    "        return 'medium'\n",
    "    else:\n",
    "        return i"
   ]
  },
  {
   "cell_type": "code",
   "execution_count": 13,
   "id": "03e4bd32",
   "metadata": {},
   "outputs": [],
   "source": [
    "df['defensive_work_rate'] = df[['defensive_work_rate']].apply(defensive_work_rate,axis=1)"
   ]
  },
  {
   "cell_type": "code",
   "execution_count": 14,
   "id": "493abdeb",
   "metadata": {},
   "outputs": [
    {
     "data": {
      "text/plain": [
       "high      176963\n",
       "low         5182\n",
       "medium      1833\n",
       "Name: defensive_work_rate, dtype: int64"
      ]
     },
     "execution_count": 14,
     "metadata": {},
     "output_type": "execute_result"
    }
   ],
   "source": [
    "df.defensive_work_rate.value_counts()"
   ]
  },
  {
   "cell_type": "code",
   "execution_count": 15,
   "id": "f28af0fb",
   "metadata": {},
   "outputs": [
    {
     "data": {
      "text/plain": [
       "0"
      ]
     },
     "execution_count": 15,
     "metadata": {},
     "output_type": "execute_result"
    }
   ],
   "source": [
    "df.defensive_work_rate.isna().sum()"
   ]
  },
  {
   "cell_type": "code",
   "execution_count": 16,
   "id": "a0a6c468",
   "metadata": {},
   "outputs": [
    {
     "name": "stdout",
     "output_type": "stream",
     "text": [
      "medium    125070\n",
      "high       42823\n",
      "low         8569\n",
      "None        3639\n",
      "norm         348\n",
      "y            106\n",
      "le           104\n",
      "stoc          89\n",
      "Name: attacking_work_rate, dtype: int64\n",
      "3230\n"
     ]
    }
   ],
   "source": [
    "print(df['attacking_work_rate'].value_counts())\n",
    "print(df['attacking_work_rate'].isna().sum())"
   ]
  },
  {
   "cell_type": "code",
   "execution_count": 17,
   "id": "26f8ac91",
   "metadata": {},
   "outputs": [],
   "source": [
    "# attacking_work_rate also needs to be cleaned\n",
    "def attacking_work_rate(cols):\n",
    "    i = cols[0]\n",
    "    \n",
    "    if not pd.isnull(i):\n",
    "\n",
    "        if i=='y':\n",
    "            return 'low'\n",
    "\n",
    "        elif i=='norm':\n",
    "            return 'medium'\n",
    "\n",
    "        else:\n",
    "            return 'high'\n",
    "\n",
    "    elif pd.isnull(i):\n",
    "        return 'medium'\n",
    "    else:\n",
    "        return i    "
   ]
  },
  {
   "cell_type": "code",
   "execution_count": 18,
   "id": "bdff99b6",
   "metadata": {},
   "outputs": [],
   "source": [
    "df['attacking_work_rate'] = df[['attacking_work_rate']].apply(attacking_work_rate,axis=1)"
   ]
  },
  {
   "cell_type": "code",
   "execution_count": 19,
   "id": "71792eb1",
   "metadata": {},
   "outputs": [
    {
     "data": {
      "text/plain": [
       "high      180294\n",
       "medium      3578\n",
       "low          106\n",
       "Name: attacking_work_rate, dtype: int64"
      ]
     },
     "execution_count": 19,
     "metadata": {},
     "output_type": "execute_result"
    }
   ],
   "source": [
    "df.attacking_work_rate.value_counts()"
   ]
  },
  {
   "cell_type": "code",
   "execution_count": 20,
   "id": "d3fe52d9",
   "metadata": {},
   "outputs": [
    {
     "data": {
      "text/plain": [
       "0"
      ]
     },
     "execution_count": 20,
     "metadata": {},
     "output_type": "execute_result"
    }
   ],
   "source": [
    "df.attacking_work_rate.isna().sum()"
   ]
  },
  {
   "cell_type": "code",
   "execution_count": 21,
   "id": "bfe591c6",
   "metadata": {},
   "outputs": [
    {
     "name": "stdout",
     "output_type": "stream",
     "text": [
      "<class 'pandas.core.frame.DataFrame'>\n",
      "RangeIndex: 183978 entries, 0 to 183977\n",
      "Data columns (total 38 columns):\n",
      " #   Column               Non-Null Count   Dtype  \n",
      "---  ------               --------------   -----  \n",
      " 0   overall_rating       183142 non-null  float64\n",
      " 1   potential            183142 non-null  float64\n",
      " 2   preferred_foot       183142 non-null  object \n",
      " 3   attacking_work_rate  183978 non-null  object \n",
      " 4   defensive_work_rate  183978 non-null  object \n",
      " 5   crossing             183142 non-null  float64\n",
      " 6   finishing            183142 non-null  float64\n",
      " 7   heading_accuracy     183142 non-null  float64\n",
      " 8   short_passing        183142 non-null  float64\n",
      " 9   volleys              181265 non-null  float64\n",
      " 10  dribbling            183142 non-null  float64\n",
      " 11  curve                181265 non-null  float64\n",
      " 12  free_kick_accuracy   183142 non-null  float64\n",
      " 13  long_passing         183142 non-null  float64\n",
      " 14  ball_control         183142 non-null  float64\n",
      " 15  acceleration         183142 non-null  float64\n",
      " 16  sprint_speed         183142 non-null  float64\n",
      " 17  agility              181265 non-null  float64\n",
      " 18  reactions            183142 non-null  float64\n",
      " 19  balance              181265 non-null  float64\n",
      " 20  shot_power           183142 non-null  float64\n",
      " 21  jumping              181265 non-null  float64\n",
      " 22  stamina              183142 non-null  float64\n",
      " 23  strength             183142 non-null  float64\n",
      " 24  long_shots           183142 non-null  float64\n",
      " 25  aggression           183142 non-null  float64\n",
      " 26  interceptions        183142 non-null  float64\n",
      " 27  positioning          183142 non-null  float64\n",
      " 28  vision               181265 non-null  float64\n",
      " 29  penalties            183142 non-null  float64\n",
      " 30  marking              183142 non-null  float64\n",
      " 31  standing_tackle      183142 non-null  float64\n",
      " 32  sliding_tackle       181265 non-null  float64\n",
      " 33  gk_diving            183142 non-null  float64\n",
      " 34  gk_handling          183142 non-null  float64\n",
      " 35  gk_kicking           183142 non-null  float64\n",
      " 36  gk_positioning       183142 non-null  float64\n",
      " 37  gk_reflexes          183142 non-null  float64\n",
      "dtypes: float64(35), object(3)\n",
      "memory usage: 53.3+ MB\n"
     ]
    }
   ],
   "source": [
    "df.info()"
   ]
  },
  {
   "cell_type": "code",
   "execution_count": 22,
   "id": "22cbf43e",
   "metadata": {},
   "outputs": [
    {
     "data": {
      "text/html": [
       "<div>\n",
       "<style scoped>\n",
       "    .dataframe tbody tr th:only-of-type {\n",
       "        vertical-align: middle;\n",
       "    }\n",
       "\n",
       "    .dataframe tbody tr th {\n",
       "        vertical-align: top;\n",
       "    }\n",
       "\n",
       "    .dataframe thead th {\n",
       "        text-align: right;\n",
       "    }\n",
       "</style>\n",
       "<table border=\"1\" class=\"dataframe\">\n",
       "  <thead>\n",
       "    <tr style=\"text-align: right;\">\n",
       "      <th></th>\n",
       "      <th>overall_rating</th>\n",
       "      <th>potential</th>\n",
       "      <th>crossing</th>\n",
       "      <th>finishing</th>\n",
       "      <th>heading_accuracy</th>\n",
       "      <th>short_passing</th>\n",
       "      <th>volleys</th>\n",
       "      <th>dribbling</th>\n",
       "      <th>curve</th>\n",
       "      <th>free_kick_accuracy</th>\n",
       "      <th>...</th>\n",
       "      <th>gk_diving</th>\n",
       "      <th>gk_handling</th>\n",
       "      <th>gk_kicking</th>\n",
       "      <th>gk_positioning</th>\n",
       "      <th>gk_reflexes</th>\n",
       "      <th>preferred_foot_right</th>\n",
       "      <th>attacking_work_rate_low</th>\n",
       "      <th>attacking_work_rate_medium</th>\n",
       "      <th>defensive_work_rate_low</th>\n",
       "      <th>defensive_work_rate_medium</th>\n",
       "    </tr>\n",
       "  </thead>\n",
       "  <tbody>\n",
       "    <tr>\n",
       "      <th>0</th>\n",
       "      <td>67.0</td>\n",
       "      <td>71.0</td>\n",
       "      <td>49.0</td>\n",
       "      <td>44.0</td>\n",
       "      <td>71.0</td>\n",
       "      <td>61.0</td>\n",
       "      <td>44.0</td>\n",
       "      <td>51.0</td>\n",
       "      <td>45.0</td>\n",
       "      <td>39.0</td>\n",
       "      <td>...</td>\n",
       "      <td>6.0</td>\n",
       "      <td>11.0</td>\n",
       "      <td>10.0</td>\n",
       "      <td>8.0</td>\n",
       "      <td>8.0</td>\n",
       "      <td>1</td>\n",
       "      <td>0</td>\n",
       "      <td>0</td>\n",
       "      <td>0</td>\n",
       "      <td>0</td>\n",
       "    </tr>\n",
       "    <tr>\n",
       "      <th>1</th>\n",
       "      <td>67.0</td>\n",
       "      <td>71.0</td>\n",
       "      <td>49.0</td>\n",
       "      <td>44.0</td>\n",
       "      <td>71.0</td>\n",
       "      <td>61.0</td>\n",
       "      <td>44.0</td>\n",
       "      <td>51.0</td>\n",
       "      <td>45.0</td>\n",
       "      <td>39.0</td>\n",
       "      <td>...</td>\n",
       "      <td>6.0</td>\n",
       "      <td>11.0</td>\n",
       "      <td>10.0</td>\n",
       "      <td>8.0</td>\n",
       "      <td>8.0</td>\n",
       "      <td>1</td>\n",
       "      <td>0</td>\n",
       "      <td>0</td>\n",
       "      <td>0</td>\n",
       "      <td>0</td>\n",
       "    </tr>\n",
       "    <tr>\n",
       "      <th>2</th>\n",
       "      <td>62.0</td>\n",
       "      <td>66.0</td>\n",
       "      <td>49.0</td>\n",
       "      <td>44.0</td>\n",
       "      <td>71.0</td>\n",
       "      <td>61.0</td>\n",
       "      <td>44.0</td>\n",
       "      <td>51.0</td>\n",
       "      <td>45.0</td>\n",
       "      <td>39.0</td>\n",
       "      <td>...</td>\n",
       "      <td>6.0</td>\n",
       "      <td>11.0</td>\n",
       "      <td>10.0</td>\n",
       "      <td>8.0</td>\n",
       "      <td>8.0</td>\n",
       "      <td>1</td>\n",
       "      <td>0</td>\n",
       "      <td>0</td>\n",
       "      <td>0</td>\n",
       "      <td>0</td>\n",
       "    </tr>\n",
       "    <tr>\n",
       "      <th>3</th>\n",
       "      <td>61.0</td>\n",
       "      <td>65.0</td>\n",
       "      <td>48.0</td>\n",
       "      <td>43.0</td>\n",
       "      <td>70.0</td>\n",
       "      <td>60.0</td>\n",
       "      <td>43.0</td>\n",
       "      <td>50.0</td>\n",
       "      <td>44.0</td>\n",
       "      <td>38.0</td>\n",
       "      <td>...</td>\n",
       "      <td>5.0</td>\n",
       "      <td>10.0</td>\n",
       "      <td>9.0</td>\n",
       "      <td>7.0</td>\n",
       "      <td>7.0</td>\n",
       "      <td>1</td>\n",
       "      <td>0</td>\n",
       "      <td>0</td>\n",
       "      <td>0</td>\n",
       "      <td>0</td>\n",
       "    </tr>\n",
       "    <tr>\n",
       "      <th>4</th>\n",
       "      <td>61.0</td>\n",
       "      <td>65.0</td>\n",
       "      <td>48.0</td>\n",
       "      <td>43.0</td>\n",
       "      <td>70.0</td>\n",
       "      <td>60.0</td>\n",
       "      <td>43.0</td>\n",
       "      <td>50.0</td>\n",
       "      <td>44.0</td>\n",
       "      <td>38.0</td>\n",
       "      <td>...</td>\n",
       "      <td>5.0</td>\n",
       "      <td>10.0</td>\n",
       "      <td>9.0</td>\n",
       "      <td>7.0</td>\n",
       "      <td>7.0</td>\n",
       "      <td>1</td>\n",
       "      <td>0</td>\n",
       "      <td>0</td>\n",
       "      <td>0</td>\n",
       "      <td>0</td>\n",
       "    </tr>\n",
       "  </tbody>\n",
       "</table>\n",
       "<p>5 rows × 40 columns</p>\n",
       "</div>"
      ],
      "text/plain": [
       "   overall_rating  potential  crossing  finishing  heading_accuracy  \\\n",
       "0            67.0       71.0      49.0       44.0              71.0   \n",
       "1            67.0       71.0      49.0       44.0              71.0   \n",
       "2            62.0       66.0      49.0       44.0              71.0   \n",
       "3            61.0       65.0      48.0       43.0              70.0   \n",
       "4            61.0       65.0      48.0       43.0              70.0   \n",
       "\n",
       "   short_passing  volleys  dribbling  curve  free_kick_accuracy  ...  \\\n",
       "0           61.0     44.0       51.0   45.0                39.0  ...   \n",
       "1           61.0     44.0       51.0   45.0                39.0  ...   \n",
       "2           61.0     44.0       51.0   45.0                39.0  ...   \n",
       "3           60.0     43.0       50.0   44.0                38.0  ...   \n",
       "4           60.0     43.0       50.0   44.0                38.0  ...   \n",
       "\n",
       "   gk_diving  gk_handling  gk_kicking  gk_positioning  gk_reflexes  \\\n",
       "0        6.0         11.0        10.0             8.0          8.0   \n",
       "1        6.0         11.0        10.0             8.0          8.0   \n",
       "2        6.0         11.0        10.0             8.0          8.0   \n",
       "3        5.0         10.0         9.0             7.0          7.0   \n",
       "4        5.0         10.0         9.0             7.0          7.0   \n",
       "\n",
       "   preferred_foot_right  attacking_work_rate_low  attacking_work_rate_medium  \\\n",
       "0                     1                        0                           0   \n",
       "1                     1                        0                           0   \n",
       "2                     1                        0                           0   \n",
       "3                     1                        0                           0   \n",
       "4                     1                        0                           0   \n",
       "\n",
       "   defensive_work_rate_low  defensive_work_rate_medium  \n",
       "0                        0                           0  \n",
       "1                        0                           0  \n",
       "2                        0                           0  \n",
       "3                        0                           0  \n",
       "4                        0                           0  \n",
       "\n",
       "[5 rows x 40 columns]"
      ]
     },
     "execution_count": 22,
     "metadata": {},
     "output_type": "execute_result"
    }
   ],
   "source": [
    "dummy_df = pd.get_dummies(df, columns=['preferred_foot', 'attacking_work_rate', 'defensive_work_rate'],drop_first=True)\n",
    "dummy_df.head()"
   ]
  },
  {
   "cell_type": "code",
   "execution_count": 23,
   "id": "d3d3eda1",
   "metadata": {},
   "outputs": [
    {
     "name": "stdout",
     "output_type": "stream",
     "text": [
      "<class 'pandas.core.frame.DataFrame'>\n",
      "RangeIndex: 183978 entries, 0 to 183977\n",
      "Data columns (total 40 columns):\n",
      " #   Column                      Non-Null Count   Dtype  \n",
      "---  ------                      --------------   -----  \n",
      " 0   overall_rating              183142 non-null  float64\n",
      " 1   potential                   183142 non-null  float64\n",
      " 2   crossing                    183142 non-null  float64\n",
      " 3   finishing                   183142 non-null  float64\n",
      " 4   heading_accuracy            183142 non-null  float64\n",
      " 5   short_passing               183142 non-null  float64\n",
      " 6   volleys                     181265 non-null  float64\n",
      " 7   dribbling                   183142 non-null  float64\n",
      " 8   curve                       181265 non-null  float64\n",
      " 9   free_kick_accuracy          183142 non-null  float64\n",
      " 10  long_passing                183142 non-null  float64\n",
      " 11  ball_control                183142 non-null  float64\n",
      " 12  acceleration                183142 non-null  float64\n",
      " 13  sprint_speed                183142 non-null  float64\n",
      " 14  agility                     181265 non-null  float64\n",
      " 15  reactions                   183142 non-null  float64\n",
      " 16  balance                     181265 non-null  float64\n",
      " 17  shot_power                  183142 non-null  float64\n",
      " 18  jumping                     181265 non-null  float64\n",
      " 19  stamina                     183142 non-null  float64\n",
      " 20  strength                    183142 non-null  float64\n",
      " 21  long_shots                  183142 non-null  float64\n",
      " 22  aggression                  183142 non-null  float64\n",
      " 23  interceptions               183142 non-null  float64\n",
      " 24  positioning                 183142 non-null  float64\n",
      " 25  vision                      181265 non-null  float64\n",
      " 26  penalties                   183142 non-null  float64\n",
      " 27  marking                     183142 non-null  float64\n",
      " 28  standing_tackle             183142 non-null  float64\n",
      " 29  sliding_tackle              181265 non-null  float64\n",
      " 30  gk_diving                   183142 non-null  float64\n",
      " 31  gk_handling                 183142 non-null  float64\n",
      " 32  gk_kicking                  183142 non-null  float64\n",
      " 33  gk_positioning              183142 non-null  float64\n",
      " 34  gk_reflexes                 183142 non-null  float64\n",
      " 35  preferred_foot_right        183978 non-null  uint8  \n",
      " 36  attacking_work_rate_low     183978 non-null  uint8  \n",
      " 37  attacking_work_rate_medium  183978 non-null  uint8  \n",
      " 38  defensive_work_rate_low     183978 non-null  uint8  \n",
      " 39  defensive_work_rate_medium  183978 non-null  uint8  \n",
      "dtypes: float64(35), uint8(5)\n",
      "memory usage: 50.0 MB\n"
     ]
    }
   ],
   "source": [
    "dummy_df.info()"
   ]
  },
  {
   "cell_type": "code",
   "execution_count": 24,
   "id": "0aab4721",
   "metadata": {},
   "outputs": [
    {
     "data": {
      "text/plain": [
       "overall_rating                 836\n",
       "potential                      836\n",
       "crossing                       836\n",
       "finishing                      836\n",
       "heading_accuracy               836\n",
       "short_passing                  836\n",
       "volleys                       2713\n",
       "dribbling                      836\n",
       "curve                         2713\n",
       "free_kick_accuracy             836\n",
       "long_passing                   836\n",
       "ball_control                   836\n",
       "acceleration                   836\n",
       "sprint_speed                   836\n",
       "agility                       2713\n",
       "reactions                      836\n",
       "balance                       2713\n",
       "shot_power                     836\n",
       "jumping                       2713\n",
       "stamina                        836\n",
       "strength                       836\n",
       "long_shots                     836\n",
       "aggression                     836\n",
       "interceptions                  836\n",
       "positioning                    836\n",
       "vision                        2713\n",
       "penalties                      836\n",
       "marking                        836\n",
       "standing_tackle                836\n",
       "sliding_tackle                2713\n",
       "gk_diving                      836\n",
       "gk_handling                    836\n",
       "gk_kicking                     836\n",
       "gk_positioning                 836\n",
       "gk_reflexes                    836\n",
       "preferred_foot_right             0\n",
       "attacking_work_rate_low          0\n",
       "attacking_work_rate_medium       0\n",
       "defensive_work_rate_low          0\n",
       "defensive_work_rate_medium       0\n",
       "dtype: int64"
      ]
     },
     "execution_count": 24,
     "metadata": {},
     "output_type": "execute_result"
    }
   ],
   "source": [
    "dummy_df.isna().sum()"
   ]
  },
  {
   "cell_type": "code",
   "execution_count": 25,
   "id": "27e547f4",
   "metadata": {},
   "outputs": [
    {
     "name": "stderr",
     "output_type": "stream",
     "text": [
      "C:\\Users\\star pc\\anaconda3\\lib\\site-packages\\seaborn\\_decorators.py:36: FutureWarning: Pass the following variable as a keyword arg: x. From version 0.12, the only valid positional argument will be `data`, and passing other arguments without an explicit keyword will result in an error or misinterpretation.\n",
      "  warnings.warn(\n"
     ]
    },
    {
     "data": {
      "text/plain": [
       "<AxesSubplot:xlabel='sliding_tackle'>"
      ]
     },
     "execution_count": 25,
     "metadata": {},
     "output_type": "execute_result"
    },
    {
     "data": {
      "image/png": "[encoded data removed]",
      "text/plain": [
       "<Figure size 432x288 with 1 Axes>"
      ]
     },
     "metadata": {
      "needs_background": "light"
     },
     "output_type": "display_data"
    }
   ],
   "source": [
    "import seaborn as sns\n",
    "sns.boxplot(dummy_df['sliding_tackle'])\n"
   ]
  },
  {
   "cell_type": "code",
   "execution_count": 26,
   "id": "470668d6",
   "metadata": {},
   "outputs": [],
   "source": [
    "# Since sliding tackle column does not contain any outlier , somwe can compute the missing values with help of mean\n",
    "dummy_df['sliding_tackle']=dummy_df['sliding_tackle'].fillna(dummy_df['sliding_tackle'].mean())"
   ]
  },
  {
   "cell_type": "code",
   "execution_count": 27,
   "id": "d744509f",
   "metadata": {},
   "outputs": [
    {
     "data": {
      "text/plain": [
       "0"
      ]
     },
     "execution_count": 27,
     "metadata": {},
     "output_type": "execute_result"
    }
   ],
   "source": [
    "dummy_df['sliding_tackle'].isna().sum()"
   ]
  },
  {
   "cell_type": "code",
   "execution_count": 28,
   "id": "c8be629f",
   "metadata": {},
   "outputs": [
    {
     "name": "stderr",
     "output_type": "stream",
     "text": [
      "C:\\Users\\star pc\\anaconda3\\lib\\site-packages\\seaborn\\_decorators.py:36: FutureWarning: Pass the following variable as a keyword arg: x. From version 0.12, the only valid positional argument will be `data`, and passing other arguments without an explicit keyword will result in an error or misinterpretation.\n",
      "  warnings.warn(\n"
     ]
    },
    {
     "data": {
      "text/plain": [
       "<AxesSubplot:xlabel='vision'>"
      ]
     },
     "execution_count": 28,
     "metadata": {},
     "output_type": "execute_result"
    },
    {
     "data": {
      "image/png": "[encoded data removed]",
      "text/plain": [
       "<Figure size 432x288 with 1 Axes>"
      ]
     },
     "metadata": {
      "needs_background": "light"
     },
     "output_type": "display_data"
    }
   ],
   "source": [
    "sns.boxplot(dummy_df['vision'])"
   ]
  },
  {
   "cell_type": "code",
   "execution_count": 29,
   "id": "c6ef3974",
   "metadata": {},
   "outputs": [
    {
     "data": {
      "text/plain": [
       "0"
      ]
     },
     "execution_count": 29,
     "metadata": {},
     "output_type": "execute_result"
    }
   ],
   "source": [
    "# Vision contains many outliers , so we'll compute the missing values with the help of median\n",
    "dummy_df['vision']=dummy_df['vision'].fillna(dummy_df['vision'].median())\n",
    "dummy_df['sliding_tackle'].isna().sum()"
   ]
  },
  {
   "cell_type": "code",
   "execution_count": 30,
   "id": "ab5d62c1",
   "metadata": {},
   "outputs": [
    {
     "name": "stderr",
     "output_type": "stream",
     "text": [
      "C:\\Users\\star pc\\anaconda3\\lib\\site-packages\\seaborn\\_decorators.py:36: FutureWarning: Pass the following variable as a keyword arg: x. From version 0.12, the only valid positional argument will be `data`, and passing other arguments without an explicit keyword will result in an error or misinterpretation.\n",
      "  warnings.warn(\n"
     ]
    },
    {
     "data": {
      "text/plain": [
       "<AxesSubplot:xlabel='jumping'>"
      ]
     },
     "execution_count": 30,
     "metadata": {},
     "output_type": "execute_result"
    },
    {
     "data": {
      "image/png": "[encoded data removed]",
      "text/plain": [
       "<Figure size 432x288 with 1 Axes>"
      ]
     },
     "metadata": {
      "needs_background": "light"
     },
     "output_type": "display_data"
    }
   ],
   "source": [
    "sns.boxplot(dummy_df['jumping'])"
   ]
  },
  {
   "cell_type": "code",
   "execution_count": 31,
   "id": "e54b6347",
   "metadata": {},
   "outputs": [
    {
     "data": {
      "text/plain": [
       "0"
      ]
     },
     "execution_count": 31,
     "metadata": {},
     "output_type": "execute_result"
    }
   ],
   "source": [
    "# Jumping contains many outliers , so we'll compute the missing values with the help of median\n",
    "dummy_df['jumping']=dummy_df['jumping'].fillna(dummy_df['jumping'].median())\n",
    "dummy_df['jumping'].isna().sum()"
   ]
  },
  {
   "cell_type": "code",
   "execution_count": 32,
   "id": "1b2febc5",
   "metadata": {},
   "outputs": [
    {
     "name": "stderr",
     "output_type": "stream",
     "text": [
      "C:\\Users\\star pc\\anaconda3\\lib\\site-packages\\seaborn\\_decorators.py:36: FutureWarning: Pass the following variable as a keyword arg: x. From version 0.12, the only valid positional argument will be `data`, and passing other arguments without an explicit keyword will result in an error or misinterpretation.\n",
      "  warnings.warn(\n"
     ]
    },
    {
     "data": {
      "text/plain": [
       "<AxesSubplot:xlabel='agility'>"
      ]
     },
     "execution_count": 32,
     "metadata": {},
     "output_type": "execute_result"
    },
    {
     "data": {
      "image/png": "[encoded data removed]",
      "text/plain": [
       "<Figure size 432x288 with 1 Axes>"
      ]
     },
     "metadata": {
      "needs_background": "light"
     },
     "output_type": "display_data"
    }
   ],
   "source": [
    "sns.boxplot(dummy_df['agility'])"
   ]
  },
  {
   "cell_type": "code",
   "execution_count": 33,
   "id": "71c00573",
   "metadata": {},
   "outputs": [
    {
     "data": {
      "text/plain": [
       "0"
      ]
     },
     "execution_count": 33,
     "metadata": {},
     "output_type": "execute_result"
    }
   ],
   "source": [
    "# agility contains many outliers , so we'll compute the missing values with the help of median\n",
    "dummy_df['agility']=dummy_df['agility'].fillna(dummy_df['agility'].median())\n",
    "dummy_df['agility'].isna().sum()"
   ]
  },
  {
   "cell_type": "code",
   "execution_count": 34,
   "id": "9d7f8cc8",
   "metadata": {},
   "outputs": [
    {
     "name": "stderr",
     "output_type": "stream",
     "text": [
      "C:\\Users\\star pc\\anaconda3\\lib\\site-packages\\seaborn\\_decorators.py:36: FutureWarning: Pass the following variable as a keyword arg: x. From version 0.12, the only valid positional argument will be `data`, and passing other arguments without an explicit keyword will result in an error or misinterpretation.\n",
      "  warnings.warn(\n"
     ]
    },
    {
     "data": {
      "text/plain": [
       "<AxesSubplot:xlabel='volleys'>"
      ]
     },
     "execution_count": 34,
     "metadata": {},
     "output_type": "execute_result"
    },
    {
     "data": {
      "image/png": "[encoded data removed]",
      "text/plain": [
       "<Figure size 432x288 with 1 Axes>"
      ]
     },
     "metadata": {
      "needs_background": "light"
     },
     "output_type": "display_data"
    }
   ],
   "source": [
    "sns.boxplot(dummy_df['volleys'])"
   ]
  },
  {
   "cell_type": "code",
   "execution_count": 35,
   "id": "35c89fff",
   "metadata": {},
   "outputs": [
    {
     "data": {
      "text/plain": [
       "0"
      ]
     },
     "execution_count": 35,
     "metadata": {},
     "output_type": "execute_result"
    }
   ],
   "source": [
    "dummy_df['volleys']=dummy_df['volleys'].fillna(dummy_df['volleys'].mean())\n",
    "dummy_df['volleys'].isna().sum()"
   ]
  },
  {
   "cell_type": "code",
   "execution_count": 36,
   "id": "616ba20d",
   "metadata": {},
   "outputs": [
    {
     "name": "stderr",
     "output_type": "stream",
     "text": [
      "C:\\Users\\star pc\\anaconda3\\lib\\site-packages\\seaborn\\_decorators.py:36: FutureWarning: Pass the following variable as a keyword arg: x. From version 0.12, the only valid positional argument will be `data`, and passing other arguments without an explicit keyword will result in an error or misinterpretation.\n",
      "  warnings.warn(\n"
     ]
    },
    {
     "data": {
      "text/plain": [
       "<AxesSubplot:xlabel='balance'>"
      ]
     },
     "execution_count": 36,
     "metadata": {},
     "output_type": "execute_result"
    },
    {
     "data": {
      "image/png": "[encoded data removed]",
      "text/plain": [
       "<Figure size 432x288 with 1 Axes>"
      ]
     },
     "metadata": {
      "needs_background": "light"
     },
     "output_type": "display_data"
    }
   ],
   "source": [
    "sns.boxplot(dummy_df['balance'])"
   ]
  },
  {
   "cell_type": "code",
   "execution_count": 37,
   "id": "647e2c9b",
   "metadata": {},
   "outputs": [
    {
     "data": {
      "text/plain": [
       "0"
      ]
     },
     "execution_count": 37,
     "metadata": {},
     "output_type": "execute_result"
    }
   ],
   "source": [
    "# balance contains many outliers , so we'll compute the missing values with the help of median\n",
    "dummy_df['balance']=dummy_df['balance'].fillna(dummy_df['balance'].median())\n",
    "dummy_df['balance'].isna().sum()"
   ]
  },
  {
   "cell_type": "code",
   "execution_count": 38,
   "id": "16818cd9",
   "metadata": {},
   "outputs": [
    {
     "name": "stderr",
     "output_type": "stream",
     "text": [
      "C:\\Users\\star pc\\anaconda3\\lib\\site-packages\\seaborn\\_decorators.py:36: FutureWarning: Pass the following variable as a keyword arg: x. From version 0.12, the only valid positional argument will be `data`, and passing other arguments without an explicit keyword will result in an error or misinterpretation.\n",
      "  warnings.warn(\n"
     ]
    },
    {
     "data": {
      "text/plain": [
       "<AxesSubplot:xlabel='curve'>"
      ]
     },
     "execution_count": 38,
     "metadata": {},
     "output_type": "execute_result"
    },
    {
     "data": {
      "image/png": "[encoded data removed]",
      "text/plain": [
       "<Figure size 432x288 with 1 Axes>"
      ]
     },
     "metadata": {
      "needs_background": "light"
     },
     "output_type": "display_data"
    }
   ],
   "source": [
    "sns.boxplot(dummy_df['curve'])"
   ]
  },
  {
   "cell_type": "code",
   "execution_count": 39,
   "id": "aa529158",
   "metadata": {},
   "outputs": [
    {
     "data": {
      "text/plain": [
       "0"
      ]
     },
     "execution_count": 39,
     "metadata": {},
     "output_type": "execute_result"
    }
   ],
   "source": [
    "# curve contains many outliers , so we'll compute the missing values with the help of median\n",
    "dummy_df['curve']=dummy_df['curve'].fillna(dummy_df['curve'].mean())\n",
    "dummy_df['curve'].isna().sum()"
   ]
  },
  {
   "cell_type": "code",
   "execution_count": 40,
   "id": "65fc799f",
   "metadata": {},
   "outputs": [
    {
     "data": {
      "text/plain": [
       "overall_rating                836\n",
       "potential                     836\n",
       "crossing                      836\n",
       "finishing                     836\n",
       "heading_accuracy              836\n",
       "short_passing                 836\n",
       "volleys                         0\n",
       "dribbling                     836\n",
       "curve                           0\n",
       "free_kick_accuracy            836\n",
       "long_passing                  836\n",
       "ball_control                  836\n",
       "acceleration                  836\n",
       "sprint_speed                  836\n",
       "agility                         0\n",
       "reactions                     836\n",
       "balance                         0\n",
       "shot_power                    836\n",
       "jumping                         0\n",
       "stamina                       836\n",
       "strength                      836\n",
       "long_shots                    836\n",
       "aggression                    836\n",
       "interceptions                 836\n",
       "positioning                   836\n",
       "vision                          0\n",
       "penalties                     836\n",
       "marking                       836\n",
       "standing_tackle               836\n",
       "sliding_tackle                  0\n",
       "gk_diving                     836\n",
       "gk_handling                   836\n",
       "gk_kicking                    836\n",
       "gk_positioning                836\n",
       "gk_reflexes                   836\n",
       "preferred_foot_right            0\n",
       "attacking_work_rate_low         0\n",
       "attacking_work_rate_medium      0\n",
       "defensive_work_rate_low         0\n",
       "defensive_work_rate_medium      0\n",
       "dtype: int64"
      ]
     },
     "execution_count": 40,
     "metadata": {},
     "output_type": "execute_result"
    }
   ],
   "source": [
    "dummy_df.isna().sum()"
   ]
  },
  {
   "cell_type": "code",
   "execution_count": 41,
   "id": "6114f581",
   "metadata": {},
   "outputs": [],
   "source": [
    "dummy_df.dropna(inplace=True)"
   ]
  },
  {
   "cell_type": "code",
   "execution_count": 42,
   "id": "2f5f9008",
   "metadata": {},
   "outputs": [],
   "source": [
    "# Separating the dependent and independent columns\n",
    "X=dummy_df.drop(columns=['overall_rating'])\n",
    "y=dummy_df['overall_rating']"
   ]
  },
  {
   "cell_type": "code",
   "execution_count": 43,
   "id": "3b0edde1",
   "metadata": {},
   "outputs": [],
   "source": [
    "# Splitting the dataset into train and test set\n",
    "from sklearn.model_selection import train_test_split\n",
    "X_train,X_test,y_train,y_test=train_test_split(X,y,test_size=0.3,random_state=42)"
   ]
  },
  {
   "cell_type": "code",
   "execution_count": 44,
   "id": "b2217a36",
   "metadata": {},
   "outputs": [
    {
     "data": {
      "text/plain": [
       "((128199, 39), (54943, 39))"
      ]
     },
     "execution_count": 44,
     "metadata": {},
     "output_type": "execute_result"
    }
   ],
   "source": [
    "X_train.shape,X_test.shape"
   ]
  },
  {
   "cell_type": "code",
   "execution_count": 45,
   "id": "9a02260a",
   "metadata": {},
   "outputs": [],
   "source": [
    "# Standardizing the dataset\n",
    "from sklearn.preprocessing import StandardScaler\n",
    "scaler=StandardScaler()\n",
    "X_train_new=scaler.fit_transform(X_train)\n",
    "X_test_new=scaler.transform(X_test)"
   ]
  },
  {
   "cell_type": "code",
   "execution_count": 46,
   "id": "c073cb2d",
   "metadata": {},
   "outputs": [],
   "source": [
    "X_train=pd.DataFrame(X_train_new,columns=X_train.columns)"
   ]
  },
  {
   "cell_type": "code",
   "execution_count": 47,
   "id": "b0cebc86",
   "metadata": {},
   "outputs": [
    {
     "data": {
      "text/html": [
       "<div>\n",
       "<style scoped>\n",
       "    .dataframe tbody tr th:only-of-type {\n",
       "        vertical-align: middle;\n",
       "    }\n",
       "\n",
       "    .dataframe tbody tr th {\n",
       "        vertical-align: top;\n",
       "    }\n",
       "\n",
       "    .dataframe thead th {\n",
       "        text-align: right;\n",
       "    }\n",
       "</style>\n",
       "<table border=\"1\" class=\"dataframe\">\n",
       "  <thead>\n",
       "    <tr style=\"text-align: right;\">\n",
       "      <th></th>\n",
       "      <th>potential</th>\n",
       "      <th>crossing</th>\n",
       "      <th>finishing</th>\n",
       "      <th>heading_accuracy</th>\n",
       "      <th>short_passing</th>\n",
       "      <th>volleys</th>\n",
       "      <th>dribbling</th>\n",
       "      <th>curve</th>\n",
       "      <th>free_kick_accuracy</th>\n",
       "      <th>long_passing</th>\n",
       "      <th>...</th>\n",
       "      <th>gk_diving</th>\n",
       "      <th>gk_handling</th>\n",
       "      <th>gk_kicking</th>\n",
       "      <th>gk_positioning</th>\n",
       "      <th>gk_reflexes</th>\n",
       "      <th>preferred_foot_right</th>\n",
       "      <th>attacking_work_rate_low</th>\n",
       "      <th>attacking_work_rate_medium</th>\n",
       "      <th>defensive_work_rate_low</th>\n",
       "      <th>defensive_work_rate_medium</th>\n",
       "    </tr>\n",
       "  </thead>\n",
       "  <tbody>\n",
       "    <tr>\n",
       "      <th>0</th>\n",
       "      <td>0.841645</td>\n",
       "      <td>-1.164714</td>\n",
       "      <td>-1.361117</td>\n",
       "      <td>1.074325</td>\n",
       "      <td>0.252547</td>\n",
       "      <td>-1.127560</td>\n",
       "      <td>-0.123446</td>\n",
       "      <td>-1.153859</td>\n",
       "      <td>-0.917124</td>\n",
       "      <td>0.553493</td>\n",
       "      <td>...</td>\n",
       "      <td>-0.515168</td>\n",
       "      <td>-0.381852</td>\n",
       "      <td>-0.325755</td>\n",
       "      <td>-0.443034</td>\n",
       "      <td>-0.140796</td>\n",
       "      <td>0.568490</td>\n",
       "      <td>-0.023374</td>\n",
       "      <td>-0.123404</td>\n",
       "      <td>-0.170682</td>\n",
       "      <td>-0.0727</td>\n",
       "    </tr>\n",
       "    <tr>\n",
       "      <th>1</th>\n",
       "      <td>-1.133335</td>\n",
       "      <td>-0.643107</td>\n",
       "      <td>-1.098534</td>\n",
       "      <td>0.528444</td>\n",
       "      <td>-0.311907</td>\n",
       "      <td>-1.568127</td>\n",
       "      <td>-1.024730</td>\n",
       "      <td>-0.713812</td>\n",
       "      <td>-1.365570</td>\n",
       "      <td>-0.002562</td>\n",
       "      <td>...</td>\n",
       "      <td>0.019513</td>\n",
       "      <td>-0.571212</td>\n",
       "      <td>-0.699322</td>\n",
       "      <td>-0.691865</td>\n",
       "      <td>-0.548365</td>\n",
       "      <td>-1.759047</td>\n",
       "      <td>-0.023374</td>\n",
       "      <td>-0.123404</td>\n",
       "      <td>-0.170682</td>\n",
       "      <td>-0.0727</td>\n",
       "    </tr>\n",
       "    <tr>\n",
       "      <th>2</th>\n",
       "      <td>-0.981414</td>\n",
       "      <td>0.226238</td>\n",
       "      <td>-1.256084</td>\n",
       "      <td>0.164524</td>\n",
       "      <td>-0.029680</td>\n",
       "      <td>-0.356568</td>\n",
       "      <td>-0.123446</td>\n",
       "      <td>-0.603801</td>\n",
       "      <td>-1.421626</td>\n",
       "      <td>-0.280589</td>\n",
       "      <td>...</td>\n",
       "      <td>-0.218123</td>\n",
       "      <td>0.312467</td>\n",
       "      <td>1.495380</td>\n",
       "      <td>0.303458</td>\n",
       "      <td>0.266773</td>\n",
       "      <td>-1.759047</td>\n",
       "      <td>-0.023374</td>\n",
       "      <td>-0.123404</td>\n",
       "      <td>-0.170682</td>\n",
       "      <td>-0.0727</td>\n",
       "    </tr>\n",
       "    <tr>\n",
       "      <th>3</th>\n",
       "      <td>1.753174</td>\n",
       "      <td>0.747845</td>\n",
       "      <td>0.214380</td>\n",
       "      <td>-0.199396</td>\n",
       "      <td>1.169786</td>\n",
       "      <td>0.579637</td>\n",
       "      <td>0.834168</td>\n",
       "      <td>1.046373</td>\n",
       "      <td>1.044829</td>\n",
       "      <td>1.387575</td>\n",
       "      <td>...</td>\n",
       "      <td>-0.039896</td>\n",
       "      <td>-0.571212</td>\n",
       "      <td>-0.372451</td>\n",
       "      <td>-0.131995</td>\n",
       "      <td>-0.490141</td>\n",
       "      <td>0.568490</td>\n",
       "      <td>-0.023374</td>\n",
       "      <td>-0.123404</td>\n",
       "      <td>-0.170682</td>\n",
       "      <td>-0.0727</td>\n",
       "    </tr>\n",
       "    <tr>\n",
       "      <th>4</th>\n",
       "      <td>-0.677571</td>\n",
       "      <td>0.516020</td>\n",
       "      <td>0.949612</td>\n",
       "      <td>-1.109197</td>\n",
       "      <td>0.675888</td>\n",
       "      <td>0.689779</td>\n",
       "      <td>0.496187</td>\n",
       "      <td>1.156384</td>\n",
       "      <td>0.540326</td>\n",
       "      <td>0.066945</td>\n",
       "      <td>...</td>\n",
       "      <td>-0.039896</td>\n",
       "      <td>-0.192493</td>\n",
       "      <td>-0.419147</td>\n",
       "      <td>-0.069788</td>\n",
       "      <td>-0.199020</td>\n",
       "      <td>0.568490</td>\n",
       "      <td>-0.023374</td>\n",
       "      <td>-0.123404</td>\n",
       "      <td>-0.170682</td>\n",
       "      <td>-0.0727</td>\n",
       "    </tr>\n",
       "    <tr>\n",
       "      <th>...</th>\n",
       "      <td>...</td>\n",
       "      <td>...</td>\n",
       "      <td>...</td>\n",
       "      <td>...</td>\n",
       "      <td>...</td>\n",
       "      <td>...</td>\n",
       "      <td>...</td>\n",
       "      <td>...</td>\n",
       "      <td>...</td>\n",
       "      <td>...</td>\n",
       "      <td>...</td>\n",
       "      <td>...</td>\n",
       "      <td>...</td>\n",
       "      <td>...</td>\n",
       "      <td>...</td>\n",
       "      <td>...</td>\n",
       "      <td>...</td>\n",
       "      <td>...</td>\n",
       "      <td>...</td>\n",
       "      <td>...</td>\n",
       "      <td>...</td>\n",
       "    </tr>\n",
       "    <tr>\n",
       "      <th>128194</th>\n",
       "      <td>0.233959</td>\n",
       "      <td>0.573976</td>\n",
       "      <td>0.214380</td>\n",
       "      <td>-0.381357</td>\n",
       "      <td>0.252547</td>\n",
       "      <td>-1.513056</td>\n",
       "      <td>0.777838</td>\n",
       "      <td>0.221286</td>\n",
       "      <td>-1.589793</td>\n",
       "      <td>-0.002562</td>\n",
       "      <td>...</td>\n",
       "      <td>-0.515168</td>\n",
       "      <td>-0.444972</td>\n",
       "      <td>-0.559234</td>\n",
       "      <td>-0.069788</td>\n",
       "      <td>-0.082572</td>\n",
       "      <td>0.568490</td>\n",
       "      <td>-0.023374</td>\n",
       "      <td>-0.123404</td>\n",
       "      <td>-0.170682</td>\n",
       "      <td>-0.0727</td>\n",
       "    </tr>\n",
       "    <tr>\n",
       "      <th>128195</th>\n",
       "      <td>0.233959</td>\n",
       "      <td>0.805801</td>\n",
       "      <td>1.212195</td>\n",
       "      <td>-0.563317</td>\n",
       "      <td>0.181991</td>\n",
       "      <td>0.579637</td>\n",
       "      <td>0.890499</td>\n",
       "      <td>0.386303</td>\n",
       "      <td>0.596382</td>\n",
       "      <td>-0.211082</td>\n",
       "      <td>...</td>\n",
       "      <td>0.019513</td>\n",
       "      <td>-0.697452</td>\n",
       "      <td>-0.325755</td>\n",
       "      <td>-0.131995</td>\n",
       "      <td>-0.490141</td>\n",
       "      <td>-1.759047</td>\n",
       "      <td>-0.023374</td>\n",
       "      <td>-0.123404</td>\n",
       "      <td>-0.170682</td>\n",
       "      <td>-0.0727</td>\n",
       "    </tr>\n",
       "    <tr>\n",
       "      <th>128196</th>\n",
       "      <td>0.841645</td>\n",
       "      <td>0.805801</td>\n",
       "      <td>0.949612</td>\n",
       "      <td>-0.078090</td>\n",
       "      <td>1.169786</td>\n",
       "      <td>1.240487</td>\n",
       "      <td>0.665178</td>\n",
       "      <td>0.936361</td>\n",
       "      <td>1.829610</td>\n",
       "      <td>1.318068</td>\n",
       "      <td>...</td>\n",
       "      <td>0.197740</td>\n",
       "      <td>0.501826</td>\n",
       "      <td>2.569383</td>\n",
       "      <td>0.490082</td>\n",
       "      <td>0.441446</td>\n",
       "      <td>0.568490</td>\n",
       "      <td>-0.023374</td>\n",
       "      <td>-0.123404</td>\n",
       "      <td>-0.170682</td>\n",
       "      <td>-0.0727</td>\n",
       "    </tr>\n",
       "    <tr>\n",
       "      <th>128197</th>\n",
       "      <td>-0.981414</td>\n",
       "      <td>0.226238</td>\n",
       "      <td>0.634513</td>\n",
       "      <td>-1.169851</td>\n",
       "      <td>0.181991</td>\n",
       "      <td>-0.411639</td>\n",
       "      <td>-0.067116</td>\n",
       "      <td>-0.273766</td>\n",
       "      <td>0.764550</td>\n",
       "      <td>0.414479</td>\n",
       "      <td>...</td>\n",
       "      <td>-0.218123</td>\n",
       "      <td>-0.571212</td>\n",
       "      <td>-0.605930</td>\n",
       "      <td>-0.194203</td>\n",
       "      <td>-0.257244</td>\n",
       "      <td>0.568490</td>\n",
       "      <td>-0.023374</td>\n",
       "      <td>-0.123404</td>\n",
       "      <td>-0.170682</td>\n",
       "      <td>-0.0727</td>\n",
       "    </tr>\n",
       "    <tr>\n",
       "      <th>128198</th>\n",
       "      <td>0.689723</td>\n",
       "      <td>0.747845</td>\n",
       "      <td>1.527294</td>\n",
       "      <td>1.195631</td>\n",
       "      <td>0.817002</td>\n",
       "      <td>1.185417</td>\n",
       "      <td>0.890499</td>\n",
       "      <td>0.881355</td>\n",
       "      <td>1.381163</td>\n",
       "      <td>0.414479</td>\n",
       "      <td>...</td>\n",
       "      <td>-0.218123</td>\n",
       "      <td>-0.192493</td>\n",
       "      <td>-0.372451</td>\n",
       "      <td>-0.691865</td>\n",
       "      <td>-0.606589</td>\n",
       "      <td>0.568490</td>\n",
       "      <td>-0.023374</td>\n",
       "      <td>-0.123404</td>\n",
       "      <td>-0.170682</td>\n",
       "      <td>-0.0727</td>\n",
       "    </tr>\n",
       "  </tbody>\n",
       "</table>\n",
       "<p>128199 rows × 39 columns</p>\n",
       "</div>"
      ],
      "text/plain": [
       "        potential  crossing  finishing  heading_accuracy  short_passing  \\\n",
       "0        0.841645 -1.164714  -1.361117          1.074325       0.252547   \n",
       "1       -1.133335 -0.643107  -1.098534          0.528444      -0.311907   \n",
       "2       -0.981414  0.226238  -1.256084          0.164524      -0.029680   \n",
       "3        1.753174  0.747845   0.214380         -0.199396       1.169786   \n",
       "4       -0.677571  0.516020   0.949612         -1.109197       0.675888   \n",
       "...           ...       ...        ...               ...            ...   \n",
       "128194   0.233959  0.573976   0.214380         -0.381357       0.252547   \n",
       "128195   0.233959  0.805801   1.212195         -0.563317       0.181991   \n",
       "128196   0.841645  0.805801   0.949612         -0.078090       1.169786   \n",
       "128197  -0.981414  0.226238   0.634513         -1.169851       0.181991   \n",
       "128198   0.689723  0.747845   1.527294          1.195631       0.817002   \n",
       "\n",
       "         volleys  dribbling     curve  free_kick_accuracy  long_passing  ...  \\\n",
       "0      -1.127560  -0.123446 -1.153859           -0.917124      0.553493  ...   \n",
       "1      -1.568127  -1.024730 -0.713812           -1.365570     -0.002562  ...   \n",
       "2      -0.356568  -0.123446 -0.603801           -1.421626     -0.280589  ...   \n",
       "3       0.579637   0.834168  1.046373            1.044829      1.387575  ...   \n",
       "4       0.689779   0.496187  1.156384            0.540326      0.066945  ...   \n",
       "...          ...        ...       ...                 ...           ...  ...   \n",
       "128194 -1.513056   0.777838  0.221286           -1.589793     -0.002562  ...   \n",
       "128195  0.579637   0.890499  0.386303            0.596382     -0.211082  ...   \n",
       "128196  1.240487   0.665178  0.936361            1.829610      1.318068  ...   \n",
       "128197 -0.411639  -0.067116 -0.273766            0.764550      0.414479  ...   \n",
       "128198  1.185417   0.890499  0.881355            1.381163      0.414479  ...   \n",
       "\n",
       "        gk_diving  gk_handling  gk_kicking  gk_positioning  gk_reflexes  \\\n",
       "0       -0.515168    -0.381852   -0.325755       -0.443034    -0.140796   \n",
       "1        0.019513    -0.571212   -0.699322       -0.691865    -0.548365   \n",
       "2       -0.218123     0.312467    1.495380        0.303458     0.266773   \n",
       "3       -0.039896    -0.571212   -0.372451       -0.131995    -0.490141   \n",
       "4       -0.039896    -0.192493   -0.419147       -0.069788    -0.199020   \n",
       "...           ...          ...         ...             ...          ...   \n",
       "128194  -0.515168    -0.444972   -0.559234       -0.069788    -0.082572   \n",
       "128195   0.019513    -0.697452   -0.325755       -0.131995    -0.490141   \n",
       "128196   0.197740     0.501826    2.569383        0.490082     0.441446   \n",
       "128197  -0.218123    -0.571212   -0.605930       -0.194203    -0.257244   \n",
       "128198  -0.218123    -0.192493   -0.372451       -0.691865    -0.606589   \n",
       "\n",
       "        preferred_foot_right  attacking_work_rate_low  \\\n",
       "0                   0.568490                -0.023374   \n",
       "1                  -1.759047                -0.023374   \n",
       "2                  -1.759047                -0.023374   \n",
       "3                   0.568490                -0.023374   \n",
       "4                   0.568490                -0.023374   \n",
       "...                      ...                      ...   \n",
       "128194              0.568490                -0.023374   \n",
       "128195             -1.759047                -0.023374   \n",
       "128196              0.568490                -0.023374   \n",
       "128197              0.568490                -0.023374   \n",
       "128198              0.568490                -0.023374   \n",
       "\n",
       "        attacking_work_rate_medium  defensive_work_rate_low  \\\n",
       "0                        -0.123404                -0.170682   \n",
       "1                        -0.123404                -0.170682   \n",
       "2                        -0.123404                -0.170682   \n",
       "3                        -0.123404                -0.170682   \n",
       "4                        -0.123404                -0.170682   \n",
       "...                            ...                      ...   \n",
       "128194                   -0.123404                -0.170682   \n",
       "128195                   -0.123404                -0.170682   \n",
       "128196                   -0.123404                -0.170682   \n",
       "128197                   -0.123404                -0.170682   \n",
       "128198                   -0.123404                -0.170682   \n",
       "\n",
       "        defensive_work_rate_medium  \n",
       "0                          -0.0727  \n",
       "1                          -0.0727  \n",
       "2                          -0.0727  \n",
       "3                          -0.0727  \n",
       "4                          -0.0727  \n",
       "...                            ...  \n",
       "128194                     -0.0727  \n",
       "128195                     -0.0727  \n",
       "128196                     -0.0727  \n",
       "128197                     -0.0727  \n",
       "128198                     -0.0727  \n",
       "\n",
       "[128199 rows x 39 columns]"
      ]
     },
     "execution_count": 47,
     "metadata": {},
     "output_type": "execute_result"
    }
   ],
   "source": [
    "X_train"
   ]
  },
  {
   "cell_type": "code",
   "execution_count": 48,
   "id": "89f2291a",
   "metadata": {},
   "outputs": [],
   "source": [
    "X_test=pd.DataFrame(X_test_new,columns=X_test.columns)"
   ]
  },
  {
   "cell_type": "code",
   "execution_count": 49,
   "id": "845df424",
   "metadata": {},
   "outputs": [
    {
     "data": {
      "text/html": [
       "<div>\n",
       "<style scoped>\n",
       "    .dataframe tbody tr th:only-of-type {\n",
       "        vertical-align: middle;\n",
       "    }\n",
       "\n",
       "    .dataframe tbody tr th {\n",
       "        vertical-align: top;\n",
       "    }\n",
       "\n",
       "    .dataframe thead th {\n",
       "        text-align: right;\n",
       "    }\n",
       "</style>\n",
       "<table border=\"1\" class=\"dataframe\">\n",
       "  <thead>\n",
       "    <tr style=\"text-align: right;\">\n",
       "      <th></th>\n",
       "      <th>potential</th>\n",
       "      <th>crossing</th>\n",
       "      <th>finishing</th>\n",
       "      <th>heading_accuracy</th>\n",
       "      <th>short_passing</th>\n",
       "      <th>volleys</th>\n",
       "      <th>dribbling</th>\n",
       "      <th>curve</th>\n",
       "      <th>free_kick_accuracy</th>\n",
       "      <th>long_passing</th>\n",
       "      <th>...</th>\n",
       "      <th>gk_diving</th>\n",
       "      <th>gk_handling</th>\n",
       "      <th>gk_kicking</th>\n",
       "      <th>gk_positioning</th>\n",
       "      <th>gk_reflexes</th>\n",
       "      <th>preferred_foot_right</th>\n",
       "      <th>attacking_work_rate_low</th>\n",
       "      <th>attacking_work_rate_medium</th>\n",
       "      <th>defensive_work_rate_low</th>\n",
       "      <th>defensive_work_rate_medium</th>\n",
       "    </tr>\n",
       "  </thead>\n",
       "  <tbody>\n",
       "    <tr>\n",
       "      <th>0</th>\n",
       "      <td>1.297409</td>\n",
       "      <td>2.138797</td>\n",
       "      <td>0.634513</td>\n",
       "      <td>0.710404</td>\n",
       "      <td>1.099229</td>\n",
       "      <td>1.791196</td>\n",
       "      <td>1.284810</td>\n",
       "      <td>1.541425</td>\n",
       "      <td>2.053833</td>\n",
       "      <td>0.970534</td>\n",
       "      <td>...</td>\n",
       "      <td>-0.277532</td>\n",
       "      <td>0.312467</td>\n",
       "      <td>2.335904</td>\n",
       "      <td>0.303458</td>\n",
       "      <td>0.266773</td>\n",
       "      <td>-1.759047</td>\n",
       "      <td>-0.023374</td>\n",
       "      <td>-0.123404</td>\n",
       "      <td>-0.170682</td>\n",
       "      <td>-0.0727</td>\n",
       "    </tr>\n",
       "    <tr>\n",
       "      <th>1</th>\n",
       "      <td>0.841645</td>\n",
       "      <td>-0.643107</td>\n",
       "      <td>-1.046017</td>\n",
       "      <td>-0.381357</td>\n",
       "      <td>0.605332</td>\n",
       "      <td>-0.686993</td>\n",
       "      <td>0.101875</td>\n",
       "      <td>-0.603801</td>\n",
       "      <td>0.540326</td>\n",
       "      <td>0.762013</td>\n",
       "      <td>...</td>\n",
       "      <td>-0.218123</td>\n",
       "      <td>-0.255612</td>\n",
       "      <td>-0.372451</td>\n",
       "      <td>-0.567449</td>\n",
       "      <td>-0.606589</td>\n",
       "      <td>0.568490</td>\n",
       "      <td>-0.023374</td>\n",
       "      <td>-0.123404</td>\n",
       "      <td>-0.170682</td>\n",
       "      <td>-0.0727</td>\n",
       "    </tr>\n",
       "    <tr>\n",
       "      <th>2</th>\n",
       "      <td>0.841645</td>\n",
       "      <td>1.327408</td>\n",
       "      <td>0.897096</td>\n",
       "      <td>0.164524</td>\n",
       "      <td>1.310900</td>\n",
       "      <td>0.910062</td>\n",
       "      <td>1.397471</td>\n",
       "      <td>0.826349</td>\n",
       "      <td>0.708494</td>\n",
       "      <td>0.901027</td>\n",
       "      <td>...</td>\n",
       "      <td>-0.158714</td>\n",
       "      <td>0.123107</td>\n",
       "      <td>-0.932801</td>\n",
       "      <td>-0.069788</td>\n",
       "      <td>-0.257244</td>\n",
       "      <td>0.568490</td>\n",
       "      <td>-0.023374</td>\n",
       "      <td>-0.123404</td>\n",
       "      <td>-0.170682</td>\n",
       "      <td>-0.0727</td>\n",
       "    </tr>\n",
       "    <tr>\n",
       "      <th>3</th>\n",
       "      <td>-0.373728</td>\n",
       "      <td>0.747845</td>\n",
       "      <td>-0.205752</td>\n",
       "      <td>-0.017436</td>\n",
       "      <td>0.252547</td>\n",
       "      <td>0.689779</td>\n",
       "      <td>0.496187</td>\n",
       "      <td>0.166280</td>\n",
       "      <td>0.428215</td>\n",
       "      <td>0.066945</td>\n",
       "      <td>...</td>\n",
       "      <td>-0.277532</td>\n",
       "      <td>-0.192493</td>\n",
       "      <td>-0.279060</td>\n",
       "      <td>-0.567449</td>\n",
       "      <td>-0.082572</td>\n",
       "      <td>-1.759047</td>\n",
       "      <td>-0.023374</td>\n",
       "      <td>-0.123404</td>\n",
       "      <td>-0.170682</td>\n",
       "      <td>-0.0727</td>\n",
       "    </tr>\n",
       "    <tr>\n",
       "      <th>4</th>\n",
       "      <td>0.385880</td>\n",
       "      <td>1.095583</td>\n",
       "      <td>1.527294</td>\n",
       "      <td>1.013671</td>\n",
       "      <td>1.240343</td>\n",
       "      <td>1.130346</td>\n",
       "      <td>1.172150</td>\n",
       "      <td>0.661332</td>\n",
       "      <td>1.100884</td>\n",
       "      <td>1.040040</td>\n",
       "      <td>...</td>\n",
       "      <td>-0.158714</td>\n",
       "      <td>-0.129373</td>\n",
       "      <td>2.382600</td>\n",
       "      <td>-0.629657</td>\n",
       "      <td>-0.199020</td>\n",
       "      <td>0.568490</td>\n",
       "      <td>-0.023374</td>\n",
       "      <td>-0.123404</td>\n",
       "      <td>5.858862</td>\n",
       "      <td>-0.0727</td>\n",
       "    </tr>\n",
       "    <tr>\n",
       "      <th>...</th>\n",
       "      <td>...</td>\n",
       "      <td>...</td>\n",
       "      <td>...</td>\n",
       "      <td>...</td>\n",
       "      <td>...</td>\n",
       "      <td>...</td>\n",
       "      <td>...</td>\n",
       "      <td>...</td>\n",
       "      <td>...</td>\n",
       "      <td>...</td>\n",
       "      <td>...</td>\n",
       "      <td>...</td>\n",
       "      <td>...</td>\n",
       "      <td>...</td>\n",
       "      <td>...</td>\n",
       "      <td>...</td>\n",
       "      <td>...</td>\n",
       "      <td>...</td>\n",
       "      <td>...</td>\n",
       "      <td>...</td>\n",
       "      <td>...</td>\n",
       "    </tr>\n",
       "    <tr>\n",
       "      <th>54938</th>\n",
       "      <td>-0.677571</td>\n",
       "      <td>-2.207928</td>\n",
       "      <td>-1.886282</td>\n",
       "      <td>-2.625532</td>\n",
       "      <td>-2.075828</td>\n",
       "      <td>-2.008694</td>\n",
       "      <td>-2.658307</td>\n",
       "      <td>-2.198969</td>\n",
       "      <td>-1.982184</td>\n",
       "      <td>-1.670725</td>\n",
       "      <td>...</td>\n",
       "      <td>3.465237</td>\n",
       "      <td>2.900383</td>\n",
       "      <td>2.242512</td>\n",
       "      <td>3.102804</td>\n",
       "      <td>3.410879</td>\n",
       "      <td>0.568490</td>\n",
       "      <td>-0.023374</td>\n",
       "      <td>-0.123404</td>\n",
       "      <td>-0.170682</td>\n",
       "      <td>-0.0727</td>\n",
       "    </tr>\n",
       "    <tr>\n",
       "      <th>54939</th>\n",
       "      <td>1.449331</td>\n",
       "      <td>-0.353325</td>\n",
       "      <td>-1.151050</td>\n",
       "      <td>1.498898</td>\n",
       "      <td>0.887559</td>\n",
       "      <td>0.304283</td>\n",
       "      <td>0.158205</td>\n",
       "      <td>-0.493789</td>\n",
       "      <td>-0.917124</td>\n",
       "      <td>0.762013</td>\n",
       "      <td>...</td>\n",
       "      <td>-0.218123</td>\n",
       "      <td>-0.508092</td>\n",
       "      <td>-0.465843</td>\n",
       "      <td>-0.256411</td>\n",
       "      <td>-0.082572</td>\n",
       "      <td>0.568490</td>\n",
       "      <td>-0.023374</td>\n",
       "      <td>-0.123404</td>\n",
       "      <td>-0.170682</td>\n",
       "      <td>-0.0727</td>\n",
       "    </tr>\n",
       "    <tr>\n",
       "      <th>54940</th>\n",
       "      <td>0.233959</td>\n",
       "      <td>0.631932</td>\n",
       "      <td>-0.048203</td>\n",
       "      <td>0.467791</td>\n",
       "      <td>0.323104</td>\n",
       "      <td>-0.466710</td>\n",
       "      <td>0.496187</td>\n",
       "      <td>-0.768818</td>\n",
       "      <td>-0.524733</td>\n",
       "      <td>0.066945</td>\n",
       "      <td>...</td>\n",
       "      <td>-0.396350</td>\n",
       "      <td>-0.697452</td>\n",
       "      <td>-0.699322</td>\n",
       "      <td>-0.443034</td>\n",
       "      <td>-0.548365</td>\n",
       "      <td>0.568490</td>\n",
       "      <td>-0.023374</td>\n",
       "      <td>-0.123404</td>\n",
       "      <td>-0.170682</td>\n",
       "      <td>-0.0727</td>\n",
       "    </tr>\n",
       "    <tr>\n",
       "      <th>54941</th>\n",
       "      <td>-1.133335</td>\n",
       "      <td>0.052369</td>\n",
       "      <td>0.266897</td>\n",
       "      <td>-0.260050</td>\n",
       "      <td>0.323104</td>\n",
       "      <td>0.414424</td>\n",
       "      <td>0.270866</td>\n",
       "      <td>-0.273766</td>\n",
       "      <td>0.764550</td>\n",
       "      <td>0.066945</td>\n",
       "      <td>...</td>\n",
       "      <td>-0.039896</td>\n",
       "      <td>-0.571212</td>\n",
       "      <td>-0.559234</td>\n",
       "      <td>-0.256411</td>\n",
       "      <td>-0.548365</td>\n",
       "      <td>0.568490</td>\n",
       "      <td>-0.023374</td>\n",
       "      <td>-0.123404</td>\n",
       "      <td>-0.170682</td>\n",
       "      <td>-0.0727</td>\n",
       "    </tr>\n",
       "    <tr>\n",
       "      <th>54942</th>\n",
       "      <td>-0.069884</td>\n",
       "      <td>-0.411282</td>\n",
       "      <td>0.319413</td>\n",
       "      <td>0.649751</td>\n",
       "      <td>-0.100237</td>\n",
       "      <td>-1.292773</td>\n",
       "      <td>-0.348767</td>\n",
       "      <td>-0.548795</td>\n",
       "      <td>0.932717</td>\n",
       "      <td>-0.002562</td>\n",
       "      <td>...</td>\n",
       "      <td>-0.515168</td>\n",
       "      <td>0.375587</td>\n",
       "      <td>1.682163</td>\n",
       "      <td>0.365666</td>\n",
       "      <td>0.324997</td>\n",
       "      <td>0.568490</td>\n",
       "      <td>-0.023374</td>\n",
       "      <td>-0.123404</td>\n",
       "      <td>-0.170682</td>\n",
       "      <td>-0.0727</td>\n",
       "    </tr>\n",
       "  </tbody>\n",
       "</table>\n",
       "<p>54943 rows × 39 columns</p>\n",
       "</div>"
      ],
      "text/plain": [
       "       potential  crossing  finishing  heading_accuracy  short_passing  \\\n",
       "0       1.297409  2.138797   0.634513          0.710404       1.099229   \n",
       "1       0.841645 -0.643107  -1.046017         -0.381357       0.605332   \n",
       "2       0.841645  1.327408   0.897096          0.164524       1.310900   \n",
       "3      -0.373728  0.747845  -0.205752         -0.017436       0.252547   \n",
       "4       0.385880  1.095583   1.527294          1.013671       1.240343   \n",
       "...          ...       ...        ...               ...            ...   \n",
       "54938  -0.677571 -2.207928  -1.886282         -2.625532      -2.075828   \n",
       "54939   1.449331 -0.353325  -1.151050          1.498898       0.887559   \n",
       "54940   0.233959  0.631932  -0.048203          0.467791       0.323104   \n",
       "54941  -1.133335  0.052369   0.266897         -0.260050       0.323104   \n",
       "54942  -0.069884 -0.411282   0.319413          0.649751      -0.100237   \n",
       "\n",
       "        volleys  dribbling     curve  free_kick_accuracy  long_passing  ...  \\\n",
       "0      1.791196   1.284810  1.541425            2.053833      0.970534  ...   \n",
       "1     -0.686993   0.101875 -0.603801            0.540326      0.762013  ...   \n",
       "2      0.910062   1.397471  0.826349            0.708494      0.901027  ...   \n",
       "3      0.689779   0.496187  0.166280            0.428215      0.066945  ...   \n",
       "4      1.130346   1.172150  0.661332            1.100884      1.040040  ...   \n",
       "...         ...        ...       ...                 ...           ...  ...   \n",
       "54938 -2.008694  -2.658307 -2.198969           -1.982184     -1.670725  ...   \n",
       "54939  0.304283   0.158205 -0.493789           -0.917124      0.762013  ...   \n",
       "54940 -0.466710   0.496187 -0.768818           -0.524733      0.066945  ...   \n",
       "54941  0.414424   0.270866 -0.273766            0.764550      0.066945  ...   \n",
       "54942 -1.292773  -0.348767 -0.548795            0.932717     -0.002562  ...   \n",
       "\n",
       "       gk_diving  gk_handling  gk_kicking  gk_positioning  gk_reflexes  \\\n",
       "0      -0.277532     0.312467    2.335904        0.303458     0.266773   \n",
       "1      -0.218123    -0.255612   -0.372451       -0.567449    -0.606589   \n",
       "2      -0.158714     0.123107   -0.932801       -0.069788    -0.257244   \n",
       "3      -0.277532    -0.192493   -0.279060       -0.567449    -0.082572   \n",
       "4      -0.158714    -0.129373    2.382600       -0.629657    -0.199020   \n",
       "...          ...          ...         ...             ...          ...   \n",
       "54938   3.465237     2.900383    2.242512        3.102804     3.410879   \n",
       "54939  -0.218123    -0.508092   -0.465843       -0.256411    -0.082572   \n",
       "54940  -0.396350    -0.697452   -0.699322       -0.443034    -0.548365   \n",
       "54941  -0.039896    -0.571212   -0.559234       -0.256411    -0.548365   \n",
       "54942  -0.515168     0.375587    1.682163        0.365666     0.324997   \n",
       "\n",
       "       preferred_foot_right  attacking_work_rate_low  \\\n",
       "0                 -1.759047                -0.023374   \n",
       "1                  0.568490                -0.023374   \n",
       "2                  0.568490                -0.023374   \n",
       "3                 -1.759047                -0.023374   \n",
       "4                  0.568490                -0.023374   \n",
       "...                     ...                      ...   \n",
       "54938              0.568490                -0.023374   \n",
       "54939              0.568490                -0.023374   \n",
       "54940              0.568490                -0.023374   \n",
       "54941              0.568490                -0.023374   \n",
       "54942              0.568490                -0.023374   \n",
       "\n",
       "       attacking_work_rate_medium  defensive_work_rate_low  \\\n",
       "0                       -0.123404                -0.170682   \n",
       "1                       -0.123404                -0.170682   \n",
       "2                       -0.123404                -0.170682   \n",
       "3                       -0.123404                -0.170682   \n",
       "4                       -0.123404                 5.858862   \n",
       "...                           ...                      ...   \n",
       "54938                   -0.123404                -0.170682   \n",
       "54939                   -0.123404                -0.170682   \n",
       "54940                   -0.123404                -0.170682   \n",
       "54941                   -0.123404                -0.170682   \n",
       "54942                   -0.123404                -0.170682   \n",
       "\n",
       "       defensive_work_rate_medium  \n",
       "0                         -0.0727  \n",
       "1                         -0.0727  \n",
       "2                         -0.0727  \n",
       "3                         -0.0727  \n",
       "4                         -0.0727  \n",
       "...                           ...  \n",
       "54938                     -0.0727  \n",
       "54939                     -0.0727  \n",
       "54940                     -0.0727  \n",
       "54941                     -0.0727  \n",
       "54942                     -0.0727  \n",
       "\n",
       "[54943 rows x 39 columns]"
      ]
     },
     "execution_count": 49,
     "metadata": {},
     "output_type": "execute_result"
    }
   ],
   "source": [
    "X_test"
   ]
  },
  {
   "cell_type": "markdown",
   "id": "b74349b6",
   "metadata": {},
   "source": [
    "#### Training models"
   ]
  },
  {
   "cell_type": "code",
   "execution_count": 50,
   "id": "6283e599",
   "metadata": {},
   "outputs": [
    {
     "data": {
      "text/plain": [
       "0.8429277236674049"
      ]
     },
     "execution_count": 50,
     "metadata": {},
     "output_type": "execute_result"
    }
   ],
   "source": [
    "from sklearn.linear_model import LinearRegression\n",
    "from sklearn.metrics import r2_score\n",
    "regressor=LinearRegression()\n",
    "regressor.fit(X_train,y_train)\n",
    "from sklearn.model_selection import cross_val_score\n",
    "mse=cross_val_score(regressor,X_train,y_train,scoring='neg_mean_squared_error',cv=5)\n",
    "np.mean(mse)\n",
    "prediction_linear=regressor.predict(X_test)\n",
    "r2_score(y_test,prediction_linear)"
   ]
  },
  {
   "cell_type": "code",
   "execution_count": 51,
   "id": "29a0451b",
   "metadata": {},
   "outputs": [
    {
     "name": "stdout",
     "output_type": "stream",
     "text": [
      "Fitting 5 folds for each of 15 candidates, totalling 75 fits\n"
     ]
    },
    {
     "data": {
      "text/html": [
       "<style>#sk-container-id-1 {color: black;background-color: white;}#sk-container-id-1 pre{padding: 0;}#sk-container-id-1 div.sk-toggleable {background-color: white;}#sk-container-id-1 label.sk-toggleable__label {cursor: pointer;display: block;width: 100%;margin-bottom: 0;padding: 0.3em;box-sizing: border-box;text-align: center;}#sk-container-id-1 label.sk-toggleable__label-arrow:before {content: \"▸\";float: left;margin-right: 0.25em;color: #696969;}#sk-container-id-1 label.sk-toggleable__label-arrow:hover:before {color: black;}#sk-container-id-1 div.sk-estimator:hover label.sk-toggleable__label-arrow:before {color: black;}#sk-container-id-1 div.sk-toggleable__content {max-height: 0;max-width: 0;overflow: hidden;text-align: left;background-color: #f0f8ff;}#sk-container-id-1 div.sk-toggleable__content pre {margin: 0.2em;color: black;border-radius: 0.25em;background-color: #f0f8ff;}#sk-container-id-1 input.sk-toggleable__control:checked~div.sk-toggleable__content {max-height: 200px;max-width: 100%;overflow: auto;}#sk-container-id-1 input.sk-toggleable__control:checked~label.sk-toggleable__label-arrow:before {content: \"▾\";}#sk-container-id-1 div.sk-estimator input.sk-toggleable__control:checked~label.sk-toggleable__label {background-color: #d4ebff;}#sk-container-id-1 div.sk-label input.sk-toggleable__control:checked~label.sk-toggleable__label {background-color: #d4ebff;}#sk-container-id-1 input.sk-hidden--visually {border: 0;clip: rect(1px 1px 1px 1px);clip: rect(1px, 1px, 1px, 1px);height: 1px;margin: -1px;overflow: hidden;padding: 0;position: absolute;width: 1px;}#sk-container-id-1 div.sk-estimator {font-family: monospace;background-color: #f0f8ff;border: 1px dotted black;border-radius: 0.25em;box-sizing: border-box;margin-bottom: 0.5em;}#sk-container-id-1 div.sk-estimator:hover {background-color: #d4ebff;}#sk-container-id-1 div.sk-parallel-item::after {content: \"\";width: 100%;border-bottom: 1px solid gray;flex-grow: 1;}#sk-container-id-1 div.sk-label:hover label.sk-toggleable__label {background-color: #d4ebff;}#sk-container-id-1 div.sk-serial::before {content: \"\";position: absolute;border-left: 1px solid gray;box-sizing: border-box;top: 0;bottom: 0;left: 50%;z-index: 0;}#sk-container-id-1 div.sk-serial {display: flex;flex-direction: column;align-items: center;background-color: white;padding-right: 0.2em;padding-left: 0.2em;position: relative;}#sk-container-id-1 div.sk-item {position: relative;z-index: 1;}#sk-container-id-1 div.sk-parallel {display: flex;align-items: stretch;justify-content: center;background-color: white;position: relative;}#sk-container-id-1 div.sk-item::before, #sk-container-id-1 div.sk-parallel-item::before {content: \"\";position: absolute;border-left: 1px solid gray;box-sizing: border-box;top: 0;bottom: 0;left: 50%;z-index: -1;}#sk-container-id-1 div.sk-parallel-item {display: flex;flex-direction: column;z-index: 1;position: relative;background-color: white;}#sk-container-id-1 div.sk-parallel-item:first-child::after {align-self: flex-end;width: 50%;}#sk-container-id-1 div.sk-parallel-item:last-child::after {align-self: flex-start;width: 50%;}#sk-container-id-1 div.sk-parallel-item:only-child::after {width: 0;}#sk-container-id-1 div.sk-dashed-wrapped {border: 1px dashed gray;margin: 0 0.4em 0.5em 0.4em;box-sizing: border-box;padding-bottom: 0.4em;background-color: white;}#sk-container-id-1 div.sk-label label {font-family: monospace;font-weight: bold;display: inline-block;line-height: 1.2em;}#sk-container-id-1 div.sk-label-container {text-align: center;}#sk-container-id-1 div.sk-container {/* jupyter's `normalize.less` sets `[hidden] { display: none; }` but bootstrap.min.css set `[hidden] { display: none !important; }` so we also need the `!important` here to be able to override the default hidden behavior on the sphinx rendered scikit-learn.org. See: https://github.com/scikit-learn/scikit-learn/issues/21755 */display: inline-block !important;position: relative;}#sk-container-id-1 div.sk-text-repr-fallback {display: none;}</style><div id=\"sk-container-id-1\" class=\"sk-top-container\"><div class=\"sk-text-repr-fallback\"><pre>GridSearchCV(cv=5, estimator=Ridge(),\n",
       "             param_grid={&#x27;alpha&#x27;: [1e-15, 0.001, 0.1, 1, 5, 10, 20, 30, 40, 50,\n",
       "                                   60, 100, 150, 200, 300]},\n",
       "             scoring=&#x27;neg_mean_squared_error&#x27;, verbose=1)</pre><b>In a Jupyter environment, please rerun this cell to show the HTML representation or trust the notebook. <br />On GitHub, the HTML representation is unable to render, please try loading this page with nbviewer.org.</b></div><div class=\"sk-container\" hidden><div class=\"sk-item sk-dashed-wrapped\"><div class=\"sk-label-container\"><div class=\"sk-label sk-toggleable\"><input class=\"sk-toggleable__control sk-hidden--visually\" id=\"sk-estimator-id-1\" type=\"checkbox\" ><label for=\"sk-estimator-id-1\" class=\"sk-toggleable__label sk-toggleable__label-arrow\">GridSearchCV</label><div class=\"sk-toggleable__content\"><pre>GridSearchCV(cv=5, estimator=Ridge(),\n",
       "             param_grid={&#x27;alpha&#x27;: [1e-15, 0.001, 0.1, 1, 5, 10, 20, 30, 40, 50,\n",
       "                                   60, 100, 150, 200, 300]},\n",
       "             scoring=&#x27;neg_mean_squared_error&#x27;, verbose=1)</pre></div></div></div><div class=\"sk-parallel\"><div class=\"sk-parallel-item\"><div class=\"sk-item\"><div class=\"sk-label-container\"><div class=\"sk-label sk-toggleable\"><input class=\"sk-toggleable__control sk-hidden--visually\" id=\"sk-estimator-id-2\" type=\"checkbox\" ><label for=\"sk-estimator-id-2\" class=\"sk-toggleable__label sk-toggleable__label-arrow\">estimator: Ridge</label><div class=\"sk-toggleable__content\"><pre>Ridge()</pre></div></div></div><div class=\"sk-serial\"><div class=\"sk-item\"><div class=\"sk-estimator sk-toggleable\"><input class=\"sk-toggleable__control sk-hidden--visually\" id=\"sk-estimator-id-3\" type=\"checkbox\" ><label for=\"sk-estimator-id-3\" class=\"sk-toggleable__label sk-toggleable__label-arrow\">Ridge</label><div class=\"sk-toggleable__content\"><pre>Ridge()</pre></div></div></div></div></div></div></div></div></div></div>"
      ],
      "text/plain": [
       "GridSearchCV(cv=5, estimator=Ridge(),\n",
       "             param_grid={'alpha': [1e-15, 0.001, 0.1, 1, 5, 10, 20, 30, 40, 50,\n",
       "                                   60, 100, 150, 200, 300]},\n",
       "             scoring='neg_mean_squared_error', verbose=1)"
      ]
     },
     "execution_count": 51,
     "metadata": {},
     "output_type": "execute_result"
    }
   ],
   "source": [
    "from sklearn.linear_model import Ridge\n",
    "from sklearn.model_selection import GridSearchCV\n",
    "ridge=Ridge()\n",
    "parameters={'alpha':[1e-15,1e-3,1e-1,1,5,10,20,30,40,50,60,100,150,200,300]}\n",
    "ridge_regressor=GridSearchCV(ridge,parameters,cv=5,scoring='neg_mean_squared_error',verbose=1)\n",
    "ridge_regressor.fit(X_train,y_train)"
   ]
  },
  {
   "cell_type": "code",
   "execution_count": 52,
   "id": "5004a232",
   "metadata": {},
   "outputs": [
    {
     "name": "stdout",
     "output_type": "stream",
     "text": [
      "{'alpha': 20}\n",
      "-7.886144539358256\n"
     ]
    }
   ],
   "source": [
    "print(ridge_regressor.best_params_)\n",
    "print(ridge_regressor.best_score_)"
   ]
  },
  {
   "cell_type": "code",
   "execution_count": 53,
   "id": "494976ef",
   "metadata": {},
   "outputs": [
    {
     "name": "stderr",
     "output_type": "stream",
     "text": [
      "C:\\Users\\star pc\\anaconda3\\lib\\site-packages\\sklearn\\linear_model\\_coordinate_descent.py:648: ConvergenceWarning: Objective did not converge. You might want to increase the number of iterations, check the scale of the features or consider increasing regularisation. Duality gap: 3.429e+05, tolerance: 5.083e+02\n",
      "  model = cd_fast.enet_coordinate_descent(\n",
      "C:\\Users\\star pc\\anaconda3\\lib\\site-packages\\sklearn\\linear_model\\_coordinate_descent.py:648: ConvergenceWarning: Objective did not converge. You might want to increase the number of iterations, check the scale of the features or consider increasing regularisation. Duality gap: 3.504e+05, tolerance: 5.063e+02\n",
      "  model = cd_fast.enet_coordinate_descent(\n",
      "C:\\Users\\star pc\\anaconda3\\lib\\site-packages\\sklearn\\linear_model\\_coordinate_descent.py:648: ConvergenceWarning: Objective did not converge. You might want to increase the number of iterations, check the scale of the features or consider increasing regularisation. Duality gap: 3.627e+05, tolerance: 5.085e+02\n",
      "  model = cd_fast.enet_coordinate_descent(\n",
      "C:\\Users\\star pc\\anaconda3\\lib\\site-packages\\sklearn\\linear_model\\_coordinate_descent.py:648: ConvergenceWarning: Objective did not converge. You might want to increase the number of iterations, check the scale of the features or consider increasing regularisation. Duality gap: 3.576e+05, tolerance: 5.080e+02\n",
      "  model = cd_fast.enet_coordinate_descent(\n",
      "C:\\Users\\star pc\\anaconda3\\lib\\site-packages\\sklearn\\linear_model\\_coordinate_descent.py:648: ConvergenceWarning: Objective did not converge. You might want to increase the number of iterations, check the scale of the features or consider increasing regularisation. Duality gap: 3.581e+05, tolerance: 5.062e+02\n",
      "  model = cd_fast.enet_coordinate_descent(\n"
     ]
    },
    {
     "data": {
      "text/html": [
       "<style>#sk-container-id-2 {color: black;background-color: white;}#sk-container-id-2 pre{padding: 0;}#sk-container-id-2 div.sk-toggleable {background-color: white;}#sk-container-id-2 label.sk-toggleable__label {cursor: pointer;display: block;width: 100%;margin-bottom: 0;padding: 0.3em;box-sizing: border-box;text-align: center;}#sk-container-id-2 label.sk-toggleable__label-arrow:before {content: \"▸\";float: left;margin-right: 0.25em;color: #696969;}#sk-container-id-2 label.sk-toggleable__label-arrow:hover:before {color: black;}#sk-container-id-2 div.sk-estimator:hover label.sk-toggleable__label-arrow:before {color: black;}#sk-container-id-2 div.sk-toggleable__content {max-height: 0;max-width: 0;overflow: hidden;text-align: left;background-color: #f0f8ff;}#sk-container-id-2 div.sk-toggleable__content pre {margin: 0.2em;color: black;border-radius: 0.25em;background-color: #f0f8ff;}#sk-container-id-2 input.sk-toggleable__control:checked~div.sk-toggleable__content {max-height: 200px;max-width: 100%;overflow: auto;}#sk-container-id-2 input.sk-toggleable__control:checked~label.sk-toggleable__label-arrow:before {content: \"▾\";}#sk-container-id-2 div.sk-estimator input.sk-toggleable__control:checked~label.sk-toggleable__label {background-color: #d4ebff;}#sk-container-id-2 div.sk-label input.sk-toggleable__control:checked~label.sk-toggleable__label {background-color: #d4ebff;}#sk-container-id-2 input.sk-hidden--visually {border: 0;clip: rect(1px 1px 1px 1px);clip: rect(1px, 1px, 1px, 1px);height: 1px;margin: -1px;overflow: hidden;padding: 0;position: absolute;width: 1px;}#sk-container-id-2 div.sk-estimator {font-family: monospace;background-color: #f0f8ff;border: 1px dotted black;border-radius: 0.25em;box-sizing: border-box;margin-bottom: 0.5em;}#sk-container-id-2 div.sk-estimator:hover {background-color: #d4ebff;}#sk-container-id-2 div.sk-parallel-item::after {content: \"\";width: 100%;border-bottom: 1px solid gray;flex-grow: 1;}#sk-container-id-2 div.sk-label:hover label.sk-toggleable__label {background-color: #d4ebff;}#sk-container-id-2 div.sk-serial::before {content: \"\";position: absolute;border-left: 1px solid gray;box-sizing: border-box;top: 0;bottom: 0;left: 50%;z-index: 0;}#sk-container-id-2 div.sk-serial {display: flex;flex-direction: column;align-items: center;background-color: white;padding-right: 0.2em;padding-left: 0.2em;position: relative;}#sk-container-id-2 div.sk-item {position: relative;z-index: 1;}#sk-container-id-2 div.sk-parallel {display: flex;align-items: stretch;justify-content: center;background-color: white;position: relative;}#sk-container-id-2 div.sk-item::before, #sk-container-id-2 div.sk-parallel-item::before {content: \"\";position: absolute;border-left: 1px solid gray;box-sizing: border-box;top: 0;bottom: 0;left: 50%;z-index: -1;}#sk-container-id-2 div.sk-parallel-item {display: flex;flex-direction: column;z-index: 1;position: relative;background-color: white;}#sk-container-id-2 div.sk-parallel-item:first-child::after {align-self: flex-end;width: 50%;}#sk-container-id-2 div.sk-parallel-item:last-child::after {align-self: flex-start;width: 50%;}#sk-container-id-2 div.sk-parallel-item:only-child::after {width: 0;}#sk-container-id-2 div.sk-dashed-wrapped {border: 1px dashed gray;margin: 0 0.4em 0.5em 0.4em;box-sizing: border-box;padding-bottom: 0.4em;background-color: white;}#sk-container-id-2 div.sk-label label {font-family: monospace;font-weight: bold;display: inline-block;line-height: 1.2em;}#sk-container-id-2 div.sk-label-container {text-align: center;}#sk-container-id-2 div.sk-container {/* jupyter's `normalize.less` sets `[hidden] { display: none; }` but bootstrap.min.css set `[hidden] { display: none !important; }` so we also need the `!important` here to be able to override the default hidden behavior on the sphinx rendered scikit-learn.org. See: https://github.com/scikit-learn/scikit-learn/issues/21755 */display: inline-block !important;position: relative;}#sk-container-id-2 div.sk-text-repr-fallback {display: none;}</style><div id=\"sk-container-id-2\" class=\"sk-top-container\"><div class=\"sk-text-repr-fallback\"><pre>GridSearchCV(cv=5, estimator=Lasso(),\n",
       "             param_grid={&#x27;alpha&#x27;: [1e-15, 1e-10, 1e-05, 0.1, 1, 5, 10, 20, 30,\n",
       "                                   50, 100, 150, 200]},\n",
       "             scoring=&#x27;neg_mean_squared_error&#x27;)</pre><b>In a Jupyter environment, please rerun this cell to show the HTML representation or trust the notebook. <br />On GitHub, the HTML representation is unable to render, please try loading this page with nbviewer.org.</b></div><div class=\"sk-container\" hidden><div class=\"sk-item sk-dashed-wrapped\"><div class=\"sk-label-container\"><div class=\"sk-label sk-toggleable\"><input class=\"sk-toggleable__control sk-hidden--visually\" id=\"sk-estimator-id-4\" type=\"checkbox\" ><label for=\"sk-estimator-id-4\" class=\"sk-toggleable__label sk-toggleable__label-arrow\">GridSearchCV</label><div class=\"sk-toggleable__content\"><pre>GridSearchCV(cv=5, estimator=Lasso(),\n",
       "             param_grid={&#x27;alpha&#x27;: [1e-15, 1e-10, 1e-05, 0.1, 1, 5, 10, 20, 30,\n",
       "                                   50, 100, 150, 200]},\n",
       "             scoring=&#x27;neg_mean_squared_error&#x27;)</pre></div></div></div><div class=\"sk-parallel\"><div class=\"sk-parallel-item\"><div class=\"sk-item\"><div class=\"sk-label-container\"><div class=\"sk-label sk-toggleable\"><input class=\"sk-toggleable__control sk-hidden--visually\" id=\"sk-estimator-id-5\" type=\"checkbox\" ><label for=\"sk-estimator-id-5\" class=\"sk-toggleable__label sk-toggleable__label-arrow\">estimator: Lasso</label><div class=\"sk-toggleable__content\"><pre>Lasso()</pre></div></div></div><div class=\"sk-serial\"><div class=\"sk-item\"><div class=\"sk-estimator sk-toggleable\"><input class=\"sk-toggleable__control sk-hidden--visually\" id=\"sk-estimator-id-6\" type=\"checkbox\" ><label for=\"sk-estimator-id-6\" class=\"sk-toggleable__label sk-toggleable__label-arrow\">Lasso</label><div class=\"sk-toggleable__content\"><pre>Lasso()</pre></div></div></div></div></div></div></div></div></div></div>"
      ],
      "text/plain": [
       "GridSearchCV(cv=5, estimator=Lasso(),\n",
       "             param_grid={'alpha': [1e-15, 1e-10, 1e-05, 0.1, 1, 5, 10, 20, 30,\n",
       "                                   50, 100, 150, 200]},\n",
       "             scoring='neg_mean_squared_error')"
      ]
     },
     "execution_count": 53,
     "metadata": {},
     "output_type": "execute_result"
    }
   ],
   "source": [
    "from sklearn.model_selection import GridSearchCV\n",
    "from sklearn.linear_model import Lasso\n",
    "lasso=Lasso()\n",
    "parameters={'alpha':[1e-15,1e-10,1e-5,1e-1,1,5,10,20,30,50,100,150,200]}\n",
    "lasso_regressor=GridSearchCV(lasso,parameters,scoring='neg_mean_squared_error',cv=5)\n",
    "lasso_regressor.fit(X_train,y_train)"
   ]
  },
  {
   "cell_type": "code",
   "execution_count": 54,
   "id": "e354f2d3",
   "metadata": {},
   "outputs": [
    {
     "name": "stdout",
     "output_type": "stream",
     "text": [
      "{'alpha': 1e-05}\n",
      "-7.886147385747741\n"
     ]
    }
   ],
   "source": [
    "print(lasso_regressor.best_params_)\n",
    "print(lasso_regressor.best_score_)"
   ]
  },
  {
   "cell_type": "code",
   "execution_count": 55,
   "id": "9b3d6823",
   "metadata": {},
   "outputs": [
    {
     "name": "stderr",
     "output_type": "stream",
     "text": [
      "C:\\Users\\star pc\\anaconda3\\lib\\site-packages\\sklearn\\tree\\_classes.py:397: FutureWarning: Criterion 'mse' was deprecated in v1.0 and will be removed in version 1.2. Use `criterion='squared_error'` which is equivalent.\n",
      "  warnings.warn(\n"
     ]
    },
    {
     "data": {
      "text/plain": [
       "0.9601252149887308"
      ]
     },
     "execution_count": 55,
     "metadata": {},
     "output_type": "execute_result"
    }
   ],
   "source": [
    "from sklearn.tree import DecisionTreeRegressor\n",
    "regressor=DecisionTreeRegressor(criterion='mse')\n",
    "regressor.fit(X_train,y_train)\n",
    "DT_predict=regressor.predict((X_test))\n",
    "r_square=r2_score(y_test,DT_predict)\n",
    "r_square"
   ]
  },
  {
   "cell_type": "code",
   "execution_count": 56,
   "id": "9f1291bd",
   "metadata": {},
   "outputs": [
    {
     "data": {
      "text/plain": [
       "0.9779251877889532"
      ]
     },
     "execution_count": 56,
     "metadata": {},
     "output_type": "execute_result"
    }
   ],
   "source": [
    "from sklearn.ensemble import RandomForestRegressor\n",
    "RFreg=RandomForestRegressor(n_estimators=10,random_state=0)\n",
    "RFreg.fit(X_train,y_train)\n",
    "RF_predict=RFreg.predict((X_test))\n",
    "r_square=r2_score(y_test,RF_predict)\n",
    "r_square"
   ]
  }
 ],
 "metadata": {
  "kernelspec": {
   "display_name": "Python 3 (ipykernel)",
   "language": "python",
   "name": "python3"
  },
  "language_info": {
   "codemirror_mode": {
    "name": "ipython",
    "version": 3
   },
   "file_extension": ".py",
   "mimetype": "text/x-python",
   "name": "python",
   "nbconvert_exporter": "python",
   "pygments_lexer": "ipython3",
   "version": "3.9.12"
  }
 },
 "nbformat": 4,
 "nbformat_minor": 5
}
